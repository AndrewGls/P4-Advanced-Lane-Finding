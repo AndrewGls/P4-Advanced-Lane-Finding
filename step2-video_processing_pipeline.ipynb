{
 "cells": [
  {
   "cell_type": "markdown",
   "metadata": {},
   "source": [
    "Video Processing Pipeline\n",
    "===\n"
   ]
  },
  {
   "cell_type": "markdown",
   "metadata": {},
   "source": [
    "### Finding the Lines"
   ]
  },
  {
   "cell_type": "code",
   "execution_count": 1,
   "metadata": {
    "collapsed": false
   },
   "outputs": [],
   "source": [
    "import numpy as np\n",
    "import cv2\n",
    "import matplotlib.pyplot as plt\n",
    "from tools import init\n",
    "from detect_lane import Line, process_image_ex \n",
    "\n",
    "import imageio\n",
    "#imageio.plugins.ffmpeg.download()\n",
    "# Import everything needed to edit/save/watch video clips\n",
    "from moviepy.editor import VideoFileClip\n",
    "from IPython.display import HTML\n"
   ]
  },
  {
   "cell_type": "code",
   "execution_count": 2,
   "metadata": {
    "collapsed": false
   },
   "outputs": [],
   "source": [
    "Verbose=True\n",
    "frame_Ind = 0;\n",
    "img_width = 1280\n",
    "\n",
    "init()\n",
    "\n",
    "leftL = Line(327, img_width, 3)\n",
    "rightL = Line(1018, img_width, 3)"
   ]
  },
  {
   "cell_type": "code",
   "execution_count": 3,
   "metadata": {
    "collapsed": true
   },
   "outputs": [],
   "source": [
    "def process_image(img):\n",
    "    global Verbose\n",
    "    global frame_Ind\n",
    "    global leftL\n",
    "    global rightL\n",
    "    frame_Ind += 1\n",
    "    return process_image_ex(img, leftL, rightL, frame_Ind, verbose=Verbose)"
   ]
  },
  {
   "cell_type": "code",
   "execution_count": 4,
   "metadata": {
    "collapsed": false
   },
   "outputs": [
    {
     "name": "stdout",
     "output_type": "stream",
     "text": [
      "[MoviePy] >>>> Building video ./processed_project_video.mp4\n",
      "[MoviePy] Writing video ./processed_project_video.mp4\n"
     ]
    },
    {
     "name": "stderr",
     "output_type": "stream",
     "text": [
      "100%|█████████████████████████████████████████████████████████████████████████████▉| 1260/1261 [04:41<00:00,  4.43it/s]\n"
     ]
    },
    {
     "name": "stdout",
     "output_type": "stream",
     "text": [
      "[MoviePy] Done.\n",
      "[MoviePy] >>>> Video ready: ./processed_project_video.mp4 \n",
      "\n",
      "Wall time: 4min 41s\n"
     ]
    }
   ],
   "source": [
    "out_dir='./'\n",
    "output = out_dir + 'processed_project_video.mp4'\n",
    "clip = VideoFileClip(\"project_video.mp4\")\n",
    "#output = out_dir + 'processed_challenge_video.mp4'\n",
    "#clip = VideoFileClip(\"challenge_video.mp4\")\n",
    "#output = out_dir + 'processed_harder_challenge_video.mp4'\n",
    "#clip = VideoFileClip(\"harder_challenge_video.mp4\")\n",
    "out_clip = clip.fl_image(process_image) \n",
    "%time out_clip.write_videofile(output, audio=False)"
   ]
  },
  {
   "cell_type": "markdown",
   "metadata": {
    "collapsed": true
   },
   "source": [
    "### Extraction frames from video"
   ]
  },
  {
   "cell_type": "code",
   "execution_count": 24,
   "metadata": {
    "collapsed": true
   },
   "outputs": [],
   "source": [
    "import matplotlib.pyplot as plt\n",
    "\n",
    "out_dir='./output_images/frames/'\n",
    "frame_n = 0\n",
    "#frames = [548, 549, 550] # project_video.mp4\n",
    "frames = [33] # challenge_video.mp4\n",
    "\n",
    "def extract_frame(img):\n",
    "    global out_dir\n",
    "    global frame_n\n",
    "    global frames\n",
    "    frame_n += 1\n",
    "    if frame_n in frames:\n",
    "        file_path = out_dir + str(frame_n) + '_frame.png'\n",
    "        print(file_path)\n",
    "        plt.imsave(file_path, img)\n",
    "    return img"
   ]
  },
  {
   "cell_type": "code",
   "execution_count": 25,
   "metadata": {
    "collapsed": false,
    "scrolled": false
   },
   "outputs": [
    {
     "name": "stdout",
     "output_type": "stream",
     "text": [
      "[MoviePy] >>>> Building video ./output_images/frames/used_video.mp4\n",
      "[MoviePy] Writing video ./output_images/frames/used_video.mp4\n"
     ]
    },
    {
     "name": "stderr",
     "output_type": "stream",
     "text": [
      "  5%|███▋                                                                             | 22/485 [00:00<00:05, 90.66it/s]"
     ]
    },
    {
     "name": "stdout",
     "output_type": "stream",
     "text": [
      "./output_images/frames/33_frame.png\n"
     ]
    },
    {
     "name": "stderr",
     "output_type": "stream",
     "text": [
      "100%|████████████████████████████████████████████████████████████████████████████████| 485/485 [00:07<00:00, 67.26it/s]\n"
     ]
    },
    {
     "name": "stdout",
     "output_type": "stream",
     "text": [
      "[MoviePy] Done.\n",
      "[MoviePy] >>>> Video ready: ./output_images/frames/used_video.mp4 \n",
      "\n",
      "Wall time: 8.14 s\n"
     ]
    }
   ],
   "source": [
    "output = out_dir + 'used_video.mp4'\n",
    "#clip = VideoFileClip(\"project_video.mp4\")\n",
    "#clip = VideoFileClip(\"challenge_video.mp4\")\n",
    "clip = VideoFileClip(\"harder_challenge_video.mp4\")\n",
    "out_clip = clip.fl_image(extract_frame) \n",
    "%time out_clip.write_videofile(output, audio=False)"
   ]
  },
  {
   "cell_type": "code",
   "execution_count": null,
   "metadata": {
    "collapsed": true
   },
   "outputs": [],
   "source": []
  }
 ],
 "metadata": {
  "anaconda-cloud": {},
  "kernelspec": {
   "display_name": "Python 3",
   "language": "python",
   "name": "python3"
  },
  "language_info": {
   "codemirror_mode": {
    "name": "ipython",
    "version": 3
   },
   "file_extension": ".py",
   "mimetype": "text/x-python",
   "name": "python",
   "nbconvert_exporter": "python",
   "pygments_lexer": "ipython3",
   "version": "3.5.2"
  },
  "widgets": {
   "state": {},
   "version": "1.1.2"
  }
 },
 "nbformat": 4,
 "nbformat_minor": 1
}
