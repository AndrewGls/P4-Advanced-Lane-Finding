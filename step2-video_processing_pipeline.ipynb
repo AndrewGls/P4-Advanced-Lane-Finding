{
 "cells": [
  {
   "cell_type": "markdown",
   "metadata": {},
   "source": [
    "Video Processing Pipeline\n",
    "===\n"
   ]
  },
  {
   "cell_type": "markdown",
   "metadata": {},
   "source": [
    "### Finding the Lines"
   ]
  },
  {
   "cell_type": "code",
   "execution_count": 1,
   "metadata": {
    "collapsed": false
   },
   "outputs": [],
   "source": [
    "import numpy as np\n",
    "import cv2\n",
    "import matplotlib.pyplot as plt\n",
    "from tools import init\n",
    "from detect_lane import Line, process_image_ex \n",
    "\n",
    "import imageio\n",
    "#imageio.plugins.ffmpeg.download()\n",
    "# Import everything needed to edit/save/watch video clips\n",
    "from moviepy.editor import VideoFileClip\n",
    "from IPython.display import HTML\n"
   ]
  },
  {
   "cell_type": "code",
   "execution_count": 2,
   "metadata": {
    "collapsed": false
   },
   "outputs": [],
   "source": [
    "Verbose=False\n",
    "frame_Ind = 0;\n",
    "img_width = 1280\n",
    "\n",
    "init()\n",
    "\n",
    "leftL = Line(327, img_width, 7)\n",
    "rightL = Line(1018, img_width, 7)"
   ]
  },
  {
   "cell_type": "code",
   "execution_count": 3,
   "metadata": {
    "collapsed": true
   },
   "outputs": [],
   "source": [
    "def process_image(img):\n",
    "    return process_image_ex(img, leftL, rightL, frame_Ind, verbose=Verbose)"
   ]
  },
  {
   "cell_type": "code",
   "execution_count": 4,
   "metadata": {
    "collapsed": false
   },
   "outputs": [
    {
     "name": "stdout",
     "output_type": "stream",
     "text": [
      "[MoviePy] >>>> Building video ./processed_project_video.mp4\n",
      "[MoviePy] Writing video ./processed_project_video.mp4\n"
     ]
    },
    {
     "name": "stderr",
     "output_type": "stream",
     "text": [
      "  1%|▉                                                                               | 15/1261 [00:03<04:12,  4.93it/s]"
     ]
    },
    {
     "name": "stdout",
     "output_type": "stream",
     "text": [
      "fit coeffs too far off [%] [ 0.85392629  0.38158966 -0.07047207]\n"
     ]
    },
    {
     "name": "stderr",
     "output_type": "stream",
     "text": [
      "\r",
      "  1%|█                                                                               | 16/1261 [00:03<04:14,  4.88it/s]"
     ]
    },
    {
     "name": "stdout",
     "output_type": "stream",
     "text": [
      "fit coeffs too far off [%] [ 0.71254349  0.33892994 -0.07183952]\n"
     ]
    },
    {
     "name": "stderr",
     "output_type": "stream",
     "text": [
      "\r",
      "  1%|█                                                                               | 17/1261 [00:03<04:26,  4.67it/s]"
     ]
    },
    {
     "name": "stdout",
     "output_type": "stream",
     "text": [
      "fit coeffs too far off [%] [ 0.77141232  0.38087531 -0.08409789]\n"
     ]
    },
    {
     "name": "stderr",
     "output_type": "stream",
     "text": [
      "\r",
      "  1%|█▏                                                                              | 18/1261 [00:03<04:32,  4.57it/s]"
     ]
    },
    {
     "name": "stdout",
     "output_type": "stream",
     "text": [
      "fit coeffs too far off [%] [ 0.7047956   0.32992912 -0.06762524]\n"
     ]
    },
    {
     "name": "stderr",
     "output_type": "stream",
     "text": [
      "  2%|█▉                                                                              | 30/1261 [00:06<04:16,  4.80it/s]"
     ]
    },
    {
     "name": "stdout",
     "output_type": "stream",
     "text": [
      "fit coeffs too far off [%] [ 0.88084301  0.41976024 -0.0551868 ]\n"
     ]
    },
    {
     "name": "stderr",
     "output_type": "stream",
     "text": [
      "\r",
      "  2%|█▉                                                                              | 31/1261 [00:06<04:17,  4.78it/s]"
     ]
    },
    {
     "name": "stdout",
     "output_type": "stream",
     "text": [
      "fit coeffs too far off [%] [ 0.8245968   0.43255022 -0.07314611]\n"
     ]
    },
    {
     "name": "stderr",
     "output_type": "stream",
     "text": [
      "\r",
      "  3%|██                                                                              | 32/1261 [00:06<04:24,  4.64it/s]"
     ]
    },
    {
     "name": "stdout",
     "output_type": "stream",
     "text": [
      "fit coeffs too far off [%] [ 0.94481459  0.45138524 -0.06567358]\n"
     ]
    },
    {
     "name": "stderr",
     "output_type": "stream",
     "text": [
      " 16%|████████████▎                                                                  | 196/1261 [00:40<03:39,  4.86it/s]"
     ]
    },
    {
     "name": "stdout",
     "output_type": "stream",
     "text": [
      "fit coeffs too far off [%] [-0.40776755 -0.31809874  0.17573482]\n"
     ]
    },
    {
     "name": "stderr",
     "output_type": "stream",
     "text": [
      "\r",
      " 16%|████████████▎                                                                  | 197/1261 [00:40<03:37,  4.88it/s]"
     ]
    },
    {
     "name": "stdout",
     "output_type": "stream",
     "text": [
      "fit coeffs too far off [%] [-0.31281671 -0.33031641  0.2211589 ]\n"
     ]
    },
    {
     "name": "stderr",
     "output_type": "stream",
     "text": [
      "\r",
      " 16%|████████████▍                                                                  | 198/1261 [00:41<03:43,  4.75it/s]"
     ]
    },
    {
     "name": "stdout",
     "output_type": "stream",
     "text": [
      "fit coeffs too far off [%] [-0.35272738 -0.38641135  0.26260122]\n"
     ]
    },
    {
     "name": "stderr",
     "output_type": "stream",
     "text": [
      "\r",
      " 16%|████████████▍                                                                  | 199/1261 [00:41<03:47,  4.66it/s]"
     ]
    },
    {
     "name": "stdout",
     "output_type": "stream",
     "text": [
      "fit coeffs too far off [%] [-0.42957935 -0.39809172  0.24589607]\n"
     ]
    },
    {
     "name": "stderr",
     "output_type": "stream",
     "text": [
      "\r",
      " 16%|████████████▌                                                                  | 200/1261 [00:41<03:48,  4.64it/s]"
     ]
    },
    {
     "name": "stdout",
     "output_type": "stream",
     "text": [
      "fit coeffs too far off [%] [-0.48684543 -0.42562918  0.24295381]\n"
     ]
    },
    {
     "name": "stderr",
     "output_type": "stream",
     "text": [
      "\r",
      " 16%|████████████▌                                                                  | 201/1261 [00:41<03:50,  4.60it/s]"
     ]
    },
    {
     "name": "stdout",
     "output_type": "stream",
     "text": [
      "fit coeffs too far off [%] [-0.35962031 -0.32862741  0.18169426]\n"
     ]
    },
    {
     "name": "stderr",
     "output_type": "stream",
     "text": [
      " 24%|███████████████████                                                            | 305/1261 [01:03<03:19,  4.80it/s]"
     ]
    },
    {
     "name": "stdout",
     "output_type": "stream",
     "text": [
      "fit coeffs too far off [%] [-0.90666569 -0.32484996  0.01429276]\n"
     ]
    },
    {
     "name": "stderr",
     "output_type": "stream",
     "text": [
      "\r",
      " 24%|███████████████████▏                                                           | 306/1261 [01:03<03:19,  4.79it/s]"
     ]
    },
    {
     "name": "stdout",
     "output_type": "stream",
     "text": [
      "fit coeffs too far off [%] [-0.9947674  -0.41147612  0.03163963]\n"
     ]
    },
    {
     "name": "stderr",
     "output_type": "stream",
     "text": [
      " 25%|███████████████████▍                                                           | 310/1261 [01:04<03:25,  4.63it/s]"
     ]
    },
    {
     "name": "stdout",
     "output_type": "stream",
     "text": [
      "fit coeffs too far off [%] [-0.67785825 -0.61160093  0.11728204]\n"
     ]
    },
    {
     "name": "stderr",
     "output_type": "stream",
     "text": [
      "\r",
      " 25%|███████████████████▍                                                           | 311/1261 [01:04<03:25,  4.63it/s]"
     ]
    },
    {
     "name": "stdout",
     "output_type": "stream",
     "text": [
      "fit coeffs too far off [%] [-0.59536289 -0.60793721  0.11819358]\n"
     ]
    },
    {
     "name": "stderr",
     "output_type": "stream",
     "text": [
      "\r",
      " 25%|███████████████████▌                                                           | 312/1261 [01:04<03:27,  4.57it/s]"
     ]
    },
    {
     "name": "stdout",
     "output_type": "stream",
     "text": [
      "fit coeffs too far off [%] [-0.58528424 -0.73431442  0.14983087]\n"
     ]
    },
    {
     "name": "stderr",
     "output_type": "stream",
     "text": [
      "\r",
      " 25%|███████████████████▌                                                           | 313/1261 [01:04<03:31,  4.47it/s]"
     ]
    },
    {
     "name": "stdout",
     "output_type": "stream",
     "text": [
      "fit coeffs too far off [%] [-0.78982785 -0.8223847   0.14385173]\n"
     ]
    },
    {
     "name": "stderr",
     "output_type": "stream",
     "text": [
      "\r",
      " 25%|███████████████████▋                                                           | 314/1261 [01:05<03:35,  4.40it/s]"
     ]
    },
    {
     "name": "stdout",
     "output_type": "stream",
     "text": [
      "fit coeffs too far off [%] [-0.95370658 -0.93054099  0.13682402]\n"
     ]
    },
    {
     "name": "stderr",
     "output_type": "stream",
     "text": [
      "\r",
      " 25%|███████████████████▋                                                           | 315/1261 [01:05<03:36,  4.38it/s]"
     ]
    },
    {
     "name": "stdout",
     "output_type": "stream",
     "text": [
      "fit coeffs too far off [%] [-1.00002468 -0.95635622  0.12748354]\n"
     ]
    },
    {
     "name": "stderr",
     "output_type": "stream",
     "text": [
      "\r",
      " 25%|███████████████████▊                                                           | 316/1261 [01:05<03:35,  4.38it/s]"
     ]
    },
    {
     "name": "stdout",
     "output_type": "stream",
     "text": [
      "fit coeffs too far off [%] [-1.01560959 -0.9473229   0.11096566]\n"
     ]
    },
    {
     "name": "stderr",
     "output_type": "stream",
     "text": [
      "\r",
      " 25%|███████████████████▊                                                           | 317/1261 [01:05<03:35,  4.37it/s]"
     ]
    },
    {
     "name": "stdout",
     "output_type": "stream",
     "text": [
      "fit coeffs too far off [%] [ 0.7817135   0.171359    0.00167208]\n"
     ]
    },
    {
     "name": "stderr",
     "output_type": "stream",
     "text": [
      "\r",
      " 25%|███████████████████▉                                                           | 318/1261 [01:06<03:35,  4.39it/s]"
     ]
    },
    {
     "name": "stdout",
     "output_type": "stream",
     "text": [
      "fit coeffs too far off [%] [ -7.50411318e-01   2.30902996e+00  -2.13102854e-04]\n"
     ]
    },
    {
     "name": "stderr",
     "output_type": "stream",
     "text": [
      " 25%|████████████████████                                                           | 320/1261 [01:06<03:34,  4.38it/s]"
     ]
    },
    {
     "name": "stdout",
     "output_type": "stream",
     "text": [
      "fit coeffs too far off [%] [  8.90681677e+00   4.15225551e-01   2.74703810e-04]\n"
     ]
    },
    {
     "name": "stderr",
     "output_type": "stream",
     "text": [
      " 26%|████████████████████▌                                                          | 329/1261 [01:08<03:20,  4.64it/s]"
     ]
    },
    {
     "name": "stdout",
     "output_type": "stream",
     "text": [
      "fit coeffs too far off [%] [-0.8192164  -0.36355687  0.02092324]\n"
     ]
    },
    {
     "name": "stderr",
     "output_type": "stream",
     "text": [
      " 26%|████████████████████▋                                                          | 331/1261 [01:09<03:24,  4.54it/s]"
     ]
    },
    {
     "name": "stdout",
     "output_type": "stream",
     "text": [
      "fit coeffs too far off [%] [ 0.12800286  0.76369899  0.04828728]\n"
     ]
    },
    {
     "name": "stderr",
     "output_type": "stream",
     "text": [
      "\r",
      " 26%|████████████████████▊                                                          | 332/1261 [01:09<03:25,  4.52it/s]"
     ]
    },
    {
     "name": "stdout",
     "output_type": "stream",
     "text": [
      "fit coeffs too far off [%] [-1.06972404  0.55602803  0.05817083]\n"
     ]
    },
    {
     "name": "stderr",
     "output_type": "stream",
     "text": [
      "\r",
      " 26%|████████████████████▊                                                          | 333/1261 [01:09<03:27,  4.48it/s]"
     ]
    },
    {
     "name": "stdout",
     "output_type": "stream",
     "text": [
      "fit coeffs too far off [%] [-1.29213036  0.38977588  0.05425389]\n"
     ]
    },
    {
     "name": "stderr",
     "output_type": "stream",
     "text": [
      "\r",
      " 26%|████████████████████▉                                                          | 334/1261 [01:09<03:30,  4.40it/s]"
     ]
    },
    {
     "name": "stdout",
     "output_type": "stream",
     "text": [
      "fit coeffs too far off [%] [-0.91131482  0.416648    0.05397655]\n"
     ]
    },
    {
     "name": "stderr",
     "output_type": "stream",
     "text": [
      "\r",
      " 27%|████████████████████▉                                                          | 335/1261 [01:09<03:30,  4.40it/s]"
     ]
    },
    {
     "name": "stdout",
     "output_type": "stream",
     "text": [
      "fit coeffs too far off [%] [-0.98452159 -0.12503416  0.01832385]\n"
     ]
    },
    {
     "name": "stderr",
     "output_type": "stream",
     "text": [
      "\r",
      " 27%|█████████████████████                                                          | 336/1261 [01:10<03:32,  4.35it/s]"
     ]
    },
    {
     "name": "stdout",
     "output_type": "stream",
     "text": [
      "fit coeffs too far off [%] [-1.29772965 -0.2829386   0.00866932]\n"
     ]
    },
    {
     "name": "stderr",
     "output_type": "stream",
     "text": [
      " 27%|█████████████████████▏                                                         | 339/1261 [01:10<03:29,  4.41it/s]"
     ]
    },
    {
     "name": "stdout",
     "output_type": "stream",
     "text": [
      "fit coeffs too far off [%] [-0.82069138 -0.00298591  0.02169393]\n",
      "fit coeffs too far off [%] [-1.4270183  -0.50133768  0.0168432 ]\n"
     ]
    },
    {
     "name": "stderr",
     "output_type": "stream",
     "text": [
      "\r",
      " 27%|█████████████████████▎                                                         | 340/1261 [01:11<03:27,  4.44it/s]"
     ]
    },
    {
     "name": "stdout",
     "output_type": "stream",
     "text": [
      "fit coeffs too far off [%] [-1.0409015  -0.07457546  0.02064881]\n"
     ]
    },
    {
     "name": "stderr",
     "output_type": "stream",
     "text": [
      "\r",
      " 27%|█████████████████████▎                                                         | 341/1261 [01:11<03:35,  4.28it/s]"
     ]
    },
    {
     "name": "stdout",
     "output_type": "stream",
     "text": [
      "fit coeffs too far off [%] [-2.68329453 -0.31814893  0.03624316]\n",
      "fit coeffs too far off [%] [ 1.31957255  0.45955182 -0.01958505]\n"
     ]
    },
    {
     "name": "stderr",
     "output_type": "stream",
     "text": [
      "\r",
      " 27%|█████████████████████▍                                                         | 342/1261 [01:11<03:34,  4.28it/s]"
     ]
    },
    {
     "name": "stdout",
     "output_type": "stream",
     "text": [
      "fit coeffs too far off [%] [ 1.07087212  0.33506995 -0.01103267]\n"
     ]
    },
    {
     "name": "stderr",
     "output_type": "stream",
     "text": [
      "\r",
      " 27%|█████████████████████▍                                                         | 343/1261 [01:11<03:36,  4.24it/s]"
     ]
    },
    {
     "name": "stdout",
     "output_type": "stream",
     "text": [
      "fit coeffs too far off [%] [ 0.12607043 -0.60534736 -0.01808995]\n"
     ]
    },
    {
     "name": "stderr",
     "output_type": "stream",
     "text": [
      "\r",
      " 27%|█████████████████████▌                                                         | 344/1261 [01:12<03:35,  4.26it/s]"
     ]
    },
    {
     "name": "stdout",
     "output_type": "stream",
     "text": [
      "fit coeffs too far off [%] [ 0.79654216  0.23281738 -0.00273174]\n"
     ]
    },
    {
     "name": "stderr",
     "output_type": "stream",
     "text": [
      "\r",
      " 27%|█████████████████████▌                                                         | 345/1261 [01:12<03:32,  4.30it/s]"
     ]
    },
    {
     "name": "stdout",
     "output_type": "stream",
     "text": [
      "fit coeffs too far off [%] [ 0.10483051  4.42430419 -0.01476881]\n"
     ]
    },
    {
     "name": "stderr",
     "output_type": "stream",
     "text": [
      " 28%|█████████████████████▋                                                         | 347/1261 [01:12<03:32,  4.31it/s]"
     ]
    },
    {
     "name": "stdout",
     "output_type": "stream",
     "text": [
      "fit coeffs too far off [%] [ 0.1009456  -2.43730942 -0.01845692]\n"
     ]
    },
    {
     "name": "stderr",
     "output_type": "stream",
     "text": [
      " 28%|█████████████████████▊                                                         | 349/1261 [01:13<03:25,  4.43it/s]"
     ]
    },
    {
     "name": "stdout",
     "output_type": "stream",
     "text": [
      "fit coeffs too far off [%] [-0.22820957 -3.69033225 -0.01364252]\n"
     ]
    },
    {
     "name": "stderr",
     "output_type": "stream",
     "text": [
      " 28%|█████████████████████▉                                                         | 351/1261 [01:13<03:24,  4.45it/s]"
     ]
    },
    {
     "name": "stdout",
     "output_type": "stream",
     "text": [
      "fit coeffs too far off [%] [ 0.22109481 -1.58960665 -0.00208493]\n"
     ]
    },
    {
     "name": "stderr",
     "output_type": "stream",
     "text": [
      " 28%|██████████████████████                                                         | 353/1261 [01:14<03:22,  4.48it/s]"
     ]
    },
    {
     "name": "stdout",
     "output_type": "stream",
     "text": [
      "fit coeffs too far off [%] [-0.73950915 -1.90923904  0.01831361]\n"
     ]
    },
    {
     "name": "stderr",
     "output_type": "stream",
     "text": [
      "\r",
      " 28%|██████████████████████▏                                                        | 354/1261 [01:14<03:20,  4.52it/s]"
     ]
    },
    {
     "name": "stdout",
     "output_type": "stream",
     "text": [
      "fit coeffs too far off [%] [-0.84027076 -0.47598742  0.01614635]\n"
     ]
    },
    {
     "name": "stderr",
     "output_type": "stream",
     "text": [
      "\r",
      " 28%|██████████████████████▏                                                        | 355/1261 [01:14<03:21,  4.49it/s]"
     ]
    },
    {
     "name": "stdout",
     "output_type": "stream",
     "text": [
      "fit coeffs too far off [%] [-1.75950442  0.02386272  0.00324435]\n"
     ]
    },
    {
     "name": "stderr",
     "output_type": "stream",
     "text": [
      " 28%|██████████████████████▍                                                        | 358/1261 [01:15<03:19,  4.52it/s]"
     ]
    },
    {
     "name": "stdout",
     "output_type": "stream",
     "text": [
      "fit coeffs too far off [%] [ 0.68256872  0.55588869  0.03171391]\n"
     ]
    },
    {
     "name": "stderr",
     "output_type": "stream",
     "text": [
      "\r",
      " 28%|██████████████████████▍                                                        | 359/1261 [01:15<03:18,  4.55it/s]"
     ]
    },
    {
     "name": "stdout",
     "output_type": "stream",
     "text": [
      "fit coeffs too far off [%] [ 0.61057079  0.54089762  0.02896568]\n",
      "fit coeffs too far off [%] [ 0.75869828  0.41787828 -0.01042656]\n"
     ]
    },
    {
     "name": "stderr",
     "output_type": "stream",
     "text": [
      " 29%|██████████████████████▋                                                        | 362/1261 [01:16<03:22,  4.45it/s]"
     ]
    },
    {
     "name": "stdout",
     "output_type": "stream",
     "text": [
      "fit coeffs too far off [%] [-0.76977834 -0.33436997  0.00456181]\n"
     ]
    },
    {
     "name": "stderr",
     "output_type": "stream",
     "text": [
      " 29%|███████████████████████                                                        | 368/1261 [01:17<03:18,  4.51it/s]"
     ]
    },
    {
     "name": "stdout",
     "output_type": "stream",
     "text": [
      "fit coeffs too far off [%] [ 0.84742567  0.23518865 -0.00461248]\n"
     ]
    },
    {
     "name": "stderr",
     "output_type": "stream",
     "text": [
      " 30%|███████████████████████▍                                                       | 374/1261 [01:18<03:26,  4.30it/s]"
     ]
    },
    {
     "name": "stdout",
     "output_type": "stream",
     "text": [
      "fit coeffs too far off [%] [-0.94798275 -0.39353494 -0.01428872]\n"
     ]
    },
    {
     "name": "stderr",
     "output_type": "stream",
     "text": [
      "\r",
      " 30%|███████████████████████▍                                                       | 375/1261 [01:19<03:27,  4.26it/s]"
     ]
    },
    {
     "name": "stdout",
     "output_type": "stream",
     "text": [
      "fit coeffs too far off [%] [-1.2440003  -0.40562767  0.00706641]\n",
      "fit coeffs too far off [%] [-1.02919234 -0.10269771 -0.01628715]\n"
     ]
    },
    {
     "name": "stderr",
     "output_type": "stream",
     "text": [
      "\r",
      " 30%|███████████████████████▌                                                       | 376/1261 [01:19<03:31,  4.18it/s]"
     ]
    },
    {
     "name": "stdout",
     "output_type": "stream",
     "text": [
      "fit coeffs too far off [%] [-1.49115809 -0.50037577  0.00214131]\n",
      "fit coeffs too far off [%] [-1.65377033 -0.38422465 -0.00878392]\n"
     ]
    },
    {
     "name": "stderr",
     "output_type": "stream",
     "text": [
      "\r",
      " 30%|███████████████████████▌                                                       | 377/1261 [01:19<03:37,  4.07it/s]"
     ]
    },
    {
     "name": "stdout",
     "output_type": "stream",
     "text": [
      "fit coeffs too far off [%] [-1.78695497 -0.59475548  0.00322953]\n"
     ]
    },
    {
     "name": "stderr",
     "output_type": "stream",
     "text": [
      "\r",
      " 30%|███████████████████████▋                                                       | 378/1261 [01:19<03:41,  3.99it/s]"
     ]
    },
    {
     "name": "stdout",
     "output_type": "stream",
     "text": [
      "fit coeffs too far off [%] [-2.05649312 -0.76370874 -0.01169038]\n",
      "fit coeffs too far off [%] [-0.8858683  -0.26433316 -0.00206447]\n"
     ]
    },
    {
     "name": "stderr",
     "output_type": "stream",
     "text": [
      "\r",
      " 30%|███████████████████████▋                                                       | 379/1261 [01:20<03:43,  3.95it/s]"
     ]
    },
    {
     "name": "stdout",
     "output_type": "stream",
     "text": [
      "fit coeffs too far off [%] [-2.30115819 -0.87052351 -0.02248526]\n",
      "fit coeffs too far off [%] [-1.83890819 -0.5733837   0.00681882]\n"
     ]
    },
    {
     "name": "stderr",
     "output_type": "stream",
     "text": [
      "\r",
      " 30%|███████████████████████▊                                                       | 380/1261 [01:20<03:46,  3.90it/s]"
     ]
    },
    {
     "name": "stdout",
     "output_type": "stream",
     "text": [
      "fit coeffs too far off [%] [-2.32385756 -0.75847739 -0.02693104]\n",
      "fit coeffs too far off [%] [-1.93425499 -0.64059493  0.01466084]\n"
     ]
    },
    {
     "name": "stderr",
     "output_type": "stream",
     "text": [
      "\r",
      " 30%|███████████████████████▊                                                       | 381/1261 [01:20<03:50,  3.82it/s]"
     ]
    },
    {
     "name": "stdout",
     "output_type": "stream",
     "text": [
      "fit coeffs too far off [%] [-1.04649103 -0.47692062  0.01884517]\n"
     ]
    },
    {
     "name": "stderr",
     "output_type": "stream",
     "text": [
      " 30%|███████████████████████▉                                                       | 383/1261 [01:21<03:38,  4.01it/s]"
     ]
    },
    {
     "name": "stdout",
     "output_type": "stream",
     "text": [
      "fit coeffs too far off [%] [-0.10352196  0.72887749  0.00340951]\n",
      "fit coeffs too far off [%] [ 0.72745993  0.00627566  0.00788172]\n"
     ]
    },
    {
     "name": "stderr",
     "output_type": "stream",
     "text": [
      "\r",
      " 30%|████████████████████████                                                       | 384/1261 [01:21<03:32,  4.13it/s]"
     ]
    },
    {
     "name": "stdout",
     "output_type": "stream",
     "text": [
      "fit coeffs too far off [%] [ 0.06667371 -2.93991968 -0.01502216]\n"
     ]
    },
    {
     "name": "stderr",
     "output_type": "stream",
     "text": [
      " 31%|████████████████████████▏                                                      | 386/1261 [01:21<03:29,  4.18it/s]"
     ]
    },
    {
     "name": "stdout",
     "output_type": "stream",
     "text": [
      "fit coeffs too far off [%] [ 0.05498724  1.92885765 -0.01962975]\n"
     ]
    },
    {
     "name": "stderr",
     "output_type": "stream",
     "text": [
      " 31%|████████████████████████▎                                                      | 389/1261 [01:23<04:42,  3.09it/s]"
     ]
    },
    {
     "name": "stdout",
     "output_type": "stream",
     "text": [
      "fit coeffs too far off [%] [ 0.09958902  0.82561707 -0.02946109]\n"
     ]
    },
    {
     "name": "stderr",
     "output_type": "stream",
     "text": [
      "\r",
      " 31%|████████████████████████▍                                                      | 390/1261 [01:23<04:17,  3.38it/s]"
     ]
    },
    {
     "name": "stdout",
     "output_type": "stream",
     "text": [
      "fit coeffs too far off [%] [-0.61380082 -0.61746468 -0.01666649]\n",
      "fit coeffs too far off [%] [-1.76095295 -0.85604137  0.01439582]\n"
     ]
    },
    {
     "name": "stderr",
     "output_type": "stream",
     "text": [
      "\r",
      " 31%|████████████████████████▍                                                      | 391/1261 [01:23<04:02,  3.59it/s]"
     ]
    },
    {
     "name": "stdout",
     "output_type": "stream",
     "text": [
      "fit coeffs too far off [%] [-2.39861485 -1.17576668  0.01900089]\n"
     ]
    },
    {
     "name": "stderr",
     "output_type": "stream",
     "text": [
      "\r",
      " 31%|████████████████████████▌                                                      | 392/1261 [01:23<03:55,  3.69it/s]"
     ]
    },
    {
     "name": "stdout",
     "output_type": "stream",
     "text": [
      "fit coeffs too far off [%] [-3.790075   -1.61904171  0.01062278]\n"
     ]
    },
    {
     "name": "stderr",
     "output_type": "stream",
     "text": [
      "\r",
      " 31%|████████████████████████▌                                                      | 393/1261 [01:24<03:51,  3.75it/s]"
     ]
    },
    {
     "name": "stdout",
     "output_type": "stream",
     "text": [
      "fit coeffs too far off [%] [-3.12195422 -1.50171112  0.01223723]\n"
     ]
    },
    {
     "name": "stderr",
     "output_type": "stream",
     "text": [
      "\r",
      " 31%|████████████████████████▋                                                      | 394/1261 [01:24<03:45,  3.84it/s]"
     ]
    },
    {
     "name": "stdout",
     "output_type": "stream",
     "text": [
      "fit coeffs too far off [%] [-2.47160788 -1.09647849  0.00429821]\n"
     ]
    },
    {
     "name": "stderr",
     "output_type": "stream",
     "text": [
      "\r",
      " 31%|████████████████████████▋                                                      | 395/1261 [01:24<03:38,  3.96it/s]"
     ]
    },
    {
     "name": "stdout",
     "output_type": "stream",
     "text": [
      "fit coeffs too far off [%] [-2.19016595 -1.11886427  0.002851  ]\n"
     ]
    },
    {
     "name": "stderr",
     "output_type": "stream",
     "text": [
      "\r",
      " 31%|████████████████████████▊                                                      | 396/1261 [01:24<03:35,  4.02it/s]"
     ]
    },
    {
     "name": "stdout",
     "output_type": "stream",
     "text": [
      "fit coeffs too far off [%] [-1.68767969 -0.95787722  0.00251643]\n"
     ]
    },
    {
     "name": "stderr",
     "output_type": "stream",
     "text": [
      " 32%|████████████████████████▉                                                      | 398/1261 [01:25<03:28,  4.13it/s]"
     ]
    },
    {
     "name": "stdout",
     "output_type": "stream",
     "text": [
      "fit coeffs too far off [%] [-0.4214743  -0.84317949  0.00286574]\n"
     ]
    },
    {
     "name": "stderr",
     "output_type": "stream",
     "text": [
      " 32%|█████████████████████████                                                      | 400/1261 [01:25<03:21,  4.27it/s]"
     ]
    },
    {
     "name": "stdout",
     "output_type": "stream",
     "text": [
      "fit coeffs too far off [%] [  2.44607487e+00   7.19148767e-01  -1.81795776e-03]\n"
     ]
    },
    {
     "name": "stderr",
     "output_type": "stream",
     "text": [
      " 32%|█████████████████████████▏                                                     | 402/1261 [01:26<03:20,  4.28it/s]"
     ]
    },
    {
     "name": "stdout",
     "output_type": "stream",
     "text": [
      "fit coeffs too far off [%] [-1.11630638 -0.67648207  0.00461769]\n",
      "fit coeffs too far off [%] [ -7.86302256e-01  -5.14938707e-01   4.92285843e-04]\n"
     ]
    },
    {
     "name": "stderr",
     "output_type": "stream",
     "text": [
      "\r",
      " 32%|█████████████████████████▏                                                     | 403/1261 [01:26<03:17,  4.34it/s]"
     ]
    },
    {
     "name": "stdout",
     "output_type": "stream",
     "text": [
      "fit coeffs too far off [%] [-1.08964249 -0.48811841 -0.00800532]\n"
     ]
    },
    {
     "name": "stderr",
     "output_type": "stream",
     "text": [
      "\r",
      " 32%|█████████████████████████▎                                                     | 404/1261 [01:26<03:22,  4.23it/s]"
     ]
    },
    {
     "name": "stdout",
     "output_type": "stream",
     "text": [
      "fit coeffs too far off [%] [-1.06974792 -0.66835182  0.00587554]\n",
      "fit coeffs too far off [%] [ -5.41269710e+00  -1.13743116e+00  -2.21728224e-03]\n"
     ]
    },
    {
     "name": "stderr",
     "output_type": "stream",
     "text": [
      "\r",
      " 32%|█████████████████████████▎                                                     | 405/1261 [01:26<03:24,  4.19it/s]"
     ]
    },
    {
     "name": "stdout",
     "output_type": "stream",
     "text": [
      "fit coeffs too far off [%] [-1.17232045 -0.49378605 -0.00742247]\n"
     ]
    },
    {
     "name": "stderr",
     "output_type": "stream",
     "text": [
      "\r",
      " 32%|█████████████████████████▍                                                     | 406/1261 [01:27<03:27,  4.12it/s]"
     ]
    },
    {
     "name": "stdout",
     "output_type": "stream",
     "text": [
      "fit coeffs too far off [%] [-1.03129485 -0.40054095 -0.01315369]\n",
      "fit coeffs too far off [%] [ 0.2095834   0.53928156  0.00387698]\n"
     ]
    },
    {
     "name": "stderr",
     "output_type": "stream",
     "text": [
      "\r",
      " 32%|█████████████████████████▍                                                     | 407/1261 [01:27<03:26,  4.14it/s]"
     ]
    },
    {
     "name": "stdout",
     "output_type": "stream",
     "text": [
      "fit coeffs too far off [%] [-1.21334548 -0.51001401 -0.01056717]\n"
     ]
    },
    {
     "name": "stderr",
     "output_type": "stream",
     "text": [
      "\r",
      " 32%|█████████████████████████▌                                                     | 408/1261 [01:27<03:29,  4.08it/s]"
     ]
    },
    {
     "name": "stdout",
     "output_type": "stream",
     "text": [
      "fit coeffs too far off [%] [-1.00454018 -0.35459476 -0.01480687]\n",
      "fit coeffs too far off [%] [-0.68075195 -1.40634277 -0.00613348]\n"
     ]
    },
    {
     "name": "stderr",
     "output_type": "stream",
     "text": [
      " 33%|█████████████████████████▋                                                     | 410/1261 [01:28<03:30,  4.04it/s]"
     ]
    },
    {
     "name": "stdout",
     "output_type": "stream",
     "text": [
      "fit coeffs too far off [%] [-0.76131601 -1.82295129 -0.00498481]\n"
     ]
    },
    {
     "name": "stderr",
     "output_type": "stream",
     "text": [
      " 33%|█████████████████████████▊                                                     | 412/1261 [01:28<03:26,  4.11it/s]"
     ]
    },
    {
     "name": "stdout",
     "output_type": "stream",
     "text": [
      "fit coeffs too far off [%] [ 0.97113399  0.47821091 -0.00742527]\n",
      "fit coeffs too far off [%] [ 0.83770256  0.32793504 -0.00297355]\n"
     ]
    },
    {
     "name": "stderr",
     "output_type": "stream",
     "text": [
      "\r",
      " 33%|█████████████████████████▊                                                     | 413/1261 [01:28<03:23,  4.17it/s]"
     ]
    },
    {
     "name": "stdout",
     "output_type": "stream",
     "text": [
      "fit coeffs too far off [%] [ 0.89853548  0.40702365 -0.00423204]\n"
     ]
    },
    {
     "name": "stderr",
     "output_type": "stream",
     "text": [
      "\r",
      " 33%|█████████████████████████▉                                                     | 414/1261 [01:29<03:31,  4.00it/s]"
     ]
    },
    {
     "name": "stdout",
     "output_type": "stream",
     "text": [
      "fit coeffs too far off [%] [ 1.69013908  0.4902579   0.01389781]\n",
      "fit coeffs too far off [%] [-1.20644511 -0.53571177 -0.00417221]\n"
     ]
    },
    {
     "name": "stderr",
     "output_type": "stream",
     "text": [
      " 33%|██████████████████████████                                                     | 416/1261 [01:29<03:26,  4.09it/s]"
     ]
    },
    {
     "name": "stdout",
     "output_type": "stream",
     "text": [
      "fit coeffs too far off [%] [ -1.42279444e+01  -1.36578977e+00  -2.82541311e-03]\n"
     ]
    },
    {
     "name": "stderr",
     "output_type": "stream",
     "text": [
      " 33%|██████████████████████████▏                                                    | 418/1261 [01:30<03:21,  4.19it/s]"
     ]
    },
    {
     "name": "stdout",
     "output_type": "stream",
     "text": [
      "fit coeffs too far off [%] [-0.33470234 -0.53218704 -0.00094826]\n"
     ]
    },
    {
     "name": "stderr",
     "output_type": "stream",
     "text": [
      " 33%|██████████████████████████▎                                                    | 420/1261 [01:30<03:13,  4.34it/s]"
     ]
    },
    {
     "name": "stdout",
     "output_type": "stream",
     "text": [
      "fit coeffs too far off [%] [ 0.4862782  -0.81185114  0.0029674 ]\n"
     ]
    },
    {
     "name": "stderr",
     "output_type": "stream",
     "text": [
      " 33%|██████████████████████████▍                                                    | 422/1261 [01:30<03:11,  4.38it/s]"
     ]
    },
    {
     "name": "stdout",
     "output_type": "stream",
     "text": [
      "fit coeffs too far off [%] [ 0.72675828  0.14050754  0.00330452]\n"
     ]
    },
    {
     "name": "stderr",
     "output_type": "stream",
     "text": [
      " 34%|██████████████████████████▊                                                    | 427/1261 [01:32<03:03,  4.55it/s]"
     ]
    },
    {
     "name": "stdout",
     "output_type": "stream",
     "text": [
      "fit coeffs too far off [%] [-1.0392482  -0.6144079   0.00558036]\n"
     ]
    },
    {
     "name": "stderr",
     "output_type": "stream",
     "text": [
      "\r",
      " 34%|██████████████████████████▊                                                    | 428/1261 [01:32<03:05,  4.50it/s]"
     ]
    },
    {
     "name": "stdout",
     "output_type": "stream",
     "text": [
      "fit coeffs too far off [%] [-1.12944316 -0.79554948  0.00639577]\n",
      "fit coeffs too far off [%] [ -1.19274083e+00  -6.43908193e-01  -2.99225699e-04]\n"
     ]
    },
    {
     "name": "stderr",
     "output_type": "stream",
     "text": [
      "\r",
      " 34%|██████████████████████████▉                                                    | 429/1261 [01:32<03:11,  4.34it/s]"
     ]
    },
    {
     "name": "stdout",
     "output_type": "stream",
     "text": [
      "fit coeffs too far off [%] [-1.26769119 -0.89813289  0.01120394]\n"
     ]
    },
    {
     "name": "stderr",
     "output_type": "stream",
     "text": [
      "\r",
      " 34%|██████████████████████████▉                                                    | 430/1261 [01:32<03:17,  4.21it/s]"
     ]
    },
    {
     "name": "stdout",
     "output_type": "stream",
     "text": [
      "fit coeffs too far off [%] [-1.5599746  -0.81714377 -0.00863473]\n",
      "fit coeffs too far off [%] [-0.98089399 -0.63100034  0.00766263]\n"
     ]
    },
    {
     "name": "stderr",
     "output_type": "stream",
     "text": [
      "\r",
      " 34%|███████████████████████████                                                    | 431/1261 [01:33<03:17,  4.21it/s]"
     ]
    },
    {
     "name": "stdout",
     "output_type": "stream",
     "text": [
      "fit coeffs too far off [%] [-2.11851796 -1.13686229  0.00384082]\n"
     ]
    },
    {
     "name": "stderr",
     "output_type": "stream",
     "text": [
      "\r",
      " 34%|███████████████████████████                                                    | 432/1261 [01:33<03:21,  4.12it/s]"
     ]
    },
    {
     "name": "stdout",
     "output_type": "stream",
     "text": [
      "fit coeffs too far off [%] [-2.27372822 -0.90804944 -0.01949295]\n"
     ]
    },
    {
     "name": "stderr",
     "output_type": "stream",
     "text": [
      "\r",
      " 34%|███████████████████████████▏                                                   | 433/1261 [01:33<03:19,  4.16it/s]"
     ]
    },
    {
     "name": "stdout",
     "output_type": "stream",
     "text": [
      "fit coeffs too far off [%] [ -3.64472383e+00  -1.61674578e+00   1.37804482e-03]\n"
     ]
    },
    {
     "name": "stderr",
     "output_type": "stream",
     "text": [
      "\r",
      " 34%|███████████████████████████▏                                                   | 434/1261 [01:33<03:19,  4.14it/s]"
     ]
    },
    {
     "name": "stdout",
     "output_type": "stream",
     "text": [
      "fit coeffs too far off [%] [ -4.10500898e+00  -1.68058297e+00   5.49664060e-04]\n",
      "fit coeffs too far off [%] [ 0.97718555  0.41776049 -0.00137031]\n"
     ]
    },
    {
     "name": "stderr",
     "output_type": "stream",
     "text": [
      "\r",
      " 34%|███████████████████████████▎                                                   | 435/1261 [01:33<03:19,  4.15it/s]"
     ]
    },
    {
     "name": "stdout",
     "output_type": "stream",
     "text": [
      "fit coeffs too far off [%] [ 3.27972945  1.47831742 -0.01215246]\n"
     ]
    },
    {
     "name": "stderr",
     "output_type": "stream",
     "text": [
      "\r",
      " 35%|███████████████████████████▎                                                   | 436/1261 [01:34<03:24,  4.04it/s]"
     ]
    },
    {
     "name": "stdout",
     "output_type": "stream",
     "text": [
      "fit coeffs too far off [%] [ 0.57342704  0.82298417 -0.02216479]\n"
     ]
    },
    {
     "name": "stderr",
     "output_type": "stream",
     "text": [
      "\r",
      " 35%|███████████████████████████▍                                                   | 437/1261 [01:34<03:21,  4.08it/s]"
     ]
    },
    {
     "name": "stdout",
     "output_type": "stream",
     "text": [
      "fit coeffs too far off [%] [ 1.61762043  1.16251353 -0.01908143]\n"
     ]
    },
    {
     "name": "stderr",
     "output_type": "stream",
     "text": [
      "\r",
      " 35%|███████████████████████████▍                                                   | 438/1261 [01:34<03:18,  4.15it/s]"
     ]
    },
    {
     "name": "stdout",
     "output_type": "stream",
     "text": [
      "fit coeffs too far off [%] [-1.00618391  0.05284775 -0.02054392]\n"
     ]
    },
    {
     "name": "stderr",
     "output_type": "stream",
     "text": [
      "\r",
      " 35%|███████████████████████████▌                                                   | 439/1261 [01:34<03:16,  4.19it/s]"
     ]
    },
    {
     "name": "stdout",
     "output_type": "stream",
     "text": [
      "fit coeffs too far off [%] [ 0.03380971  0.50038061  0.06374711]\n"
     ]
    },
    {
     "name": "stderr",
     "output_type": "stream",
     "text": [
      " 36%|████████████████████████████                                                   | 448/1261 [01:36<02:58,  4.55it/s]"
     ]
    },
    {
     "name": "stdout",
     "output_type": "stream",
     "text": [
      "fit coeffs too far off [%] [-1.10390527 -0.41777786 -0.00546006]\n"
     ]
    },
    {
     "name": "stderr",
     "output_type": "stream",
     "text": [
      "\r",
      " 36%|████████████████████████████▏                                                  | 449/1261 [01:37<02:58,  4.56it/s]"
     ]
    },
    {
     "name": "stdout",
     "output_type": "stream",
     "text": [
      "fit coeffs too far off [%] [-0.83015352 -0.33110226 -0.00478099]\n"
     ]
    },
    {
     "name": "stderr",
     "output_type": "stream",
     "text": [
      "\r",
      " 36%|████████████████████████████▏                                                  | 450/1261 [01:37<03:01,  4.47it/s]"
     ]
    },
    {
     "name": "stdout",
     "output_type": "stream",
     "text": [
      "fit coeffs too far off [%] [-0.90694487 -0.25531006  0.01878009]\n",
      "fit coeffs too far off [%] [-0.73085753 -0.29027219 -0.00549786]\n"
     ]
    },
    {
     "name": "stderr",
     "output_type": "stream",
     "text": [
      "\r",
      " 36%|████████████████████████████▎                                                  | 451/1261 [01:37<03:05,  4.37it/s]"
     ]
    },
    {
     "name": "stdout",
     "output_type": "stream",
     "text": [
      "fit coeffs too far off [%] [-1.0651235  -0.35823472  0.01060416]\n",
      "fit coeffs too far off [%] [ -9.61541611e-01  -4.46366012e-01   5.38744961e-04]\n"
     ]
    },
    {
     "name": "stderr",
     "output_type": "stream",
     "text": [
      "\r",
      " 36%|████████████████████████████▎                                                  | 452/1261 [01:37<03:10,  4.24it/s]"
     ]
    },
    {
     "name": "stdout",
     "output_type": "stream",
     "text": [
      "fit coeffs too far off [%] [-1.22147884 -0.46895228 -0.00693555]\n",
      "fit coeffs too far off [%] [-1.12874544 -0.60795817  0.01210375]\n"
     ]
    },
    {
     "name": "stderr",
     "output_type": "stream",
     "text": [
      "\r",
      " 36%|████████████████████████████▍                                                  | 453/1261 [01:38<03:14,  4.15it/s]"
     ]
    },
    {
     "name": "stdout",
     "output_type": "stream",
     "text": [
      "fit coeffs too far off [%] [-1.7057938  -0.56292681  0.00693706]\n",
      "fit coeffs too far off [%] [-1.22776694 -0.55197121  0.00749194]\n"
     ]
    },
    {
     "name": "stderr",
     "output_type": "stream",
     "text": [
      "\r",
      " 36%|████████████████████████████▍                                                  | 454/1261 [01:38<03:17,  4.08it/s]"
     ]
    },
    {
     "name": "stdout",
     "output_type": "stream",
     "text": [
      "fit coeffs too far off [%] [-1.88150341 -0.58195017  0.00788117]\n",
      "fit coeffs too far off [%] [-2.1376219  -0.71054487  0.00878949]\n"
     ]
    },
    {
     "name": "stderr",
     "output_type": "stream",
     "text": [
      "\r",
      " 36%|████████████████████████████▌                                                  | 455/1261 [01:38<03:18,  4.05it/s]"
     ]
    },
    {
     "name": "stdout",
     "output_type": "stream",
     "text": [
      "fit coeffs too far off [%] [-2.03235321 -0.5213589   0.01035541]\n"
     ]
    },
    {
     "name": "stderr",
     "output_type": "stream",
     "text": [
      "\r",
      " 36%|████████████████████████████▌                                                  | 456/1261 [01:38<03:17,  4.07it/s]"
     ]
    },
    {
     "name": "stdout",
     "output_type": "stream",
     "text": [
      "fit coeffs too far off [%] [-2.82645411 -0.57560504  0.01671   ]\n",
      "fit coeffs too far off [%] [ 1.55076155  0.30097364 -0.00352369]\n"
     ]
    },
    {
     "name": "stderr",
     "output_type": "stream",
     "text": [
      " 36%|████████████████████████████▋                                                  | 458/1261 [01:39<03:17,  4.06it/s]"
     ]
    },
    {
     "name": "stdout",
     "output_type": "stream",
     "text": [
      "fit coeffs too far off [%] [-2.28438303 -0.45585741 -0.00378628]\n"
     ]
    },
    {
     "name": "stderr",
     "output_type": "stream",
     "text": [
      " 36%|████████████████████████████▊                                                  | 460/1261 [01:39<03:09,  4.23it/s]"
     ]
    },
    {
     "name": "stdout",
     "output_type": "stream",
     "text": [
      "fit coeffs too far off [%] [ 1.35943211 -5.2260092   0.00889608]\n"
     ]
    },
    {
     "name": "stderr",
     "output_type": "stream",
     "text": [
      "\r",
      " 37%|████████████████████████████▉                                                  | 461/1261 [01:40<03:08,  4.24it/s]"
     ]
    },
    {
     "name": "stdout",
     "output_type": "stream",
     "text": [
      "fit coeffs too far off [%] [ 0.31501424 -0.89744612 -0.02603838]\n"
     ]
    },
    {
     "name": "stderr",
     "output_type": "stream",
     "text": [
      "\r",
      " 37%|████████████████████████████▉                                                  | 462/1261 [01:40<03:08,  4.23it/s]"
     ]
    },
    {
     "name": "stdout",
     "output_type": "stream",
     "text": [
      "fit coeffs too far off [%] [ 0.25255283 -1.33454688 -0.05060803]\n",
      "fit coeffs too far off [%] [ 0.09629652  0.8613191   0.01270629]\n"
     ]
    },
    {
     "name": "stderr",
     "output_type": "stream",
     "text": [
      " 37%|█████████████████████████████▏                                                 | 465/1261 [01:40<03:01,  4.38it/s]"
     ]
    },
    {
     "name": "stdout",
     "output_type": "stream",
     "text": [
      "fit coeffs too far off [%] [-0.48802009 -0.68595979 -0.01249464]\n"
     ]
    },
    {
     "name": "stderr",
     "output_type": "stream",
     "text": [
      "\r",
      " 37%|█████████████████████████████▏                                                 | 466/1261 [01:41<02:58,  4.46it/s]"
     ]
    },
    {
     "name": "stdout",
     "output_type": "stream",
     "text": [
      "fit coeffs too far off [%] [-0.61728518 -0.73226132 -0.01146749]\n"
     ]
    },
    {
     "name": "stderr",
     "output_type": "stream",
     "text": [
      " 37%|█████████████████████████████▎                                                 | 468/1261 [01:41<02:57,  4.47it/s]"
     ]
    },
    {
     "name": "stdout",
     "output_type": "stream",
     "text": [
      "fit coeffs too far off [%] [-0.61476824 -0.80633084 -0.00558496]\n"
     ]
    },
    {
     "name": "stderr",
     "output_type": "stream",
     "text": [
      "\r",
      " 37%|█████████████████████████████▍                                                 | 469/1261 [01:41<02:54,  4.53it/s]"
     ]
    },
    {
     "name": "stdout",
     "output_type": "stream",
     "text": [
      "fit coeffs too far off [%] [-0.30324088 -0.56782145 -0.03515951]\n"
     ]
    },
    {
     "name": "stderr",
     "output_type": "stream",
     "text": [
      "\r",
      " 37%|█████████████████████████████▍                                                 | 470/1261 [01:42<02:57,  4.45it/s]"
     ]
    },
    {
     "name": "stdout",
     "output_type": "stream",
     "text": [
      "fit coeffs too far off [%] [-0.71739061  0.44953247 -0.01028879]\n",
      "fit coeffs too far off [%] [-0.92777419 -1.0014463  -0.0137571 ]\n"
     ]
    },
    {
     "name": "stderr",
     "output_type": "stream",
     "text": [
      "\r",
      " 37%|█████████████████████████████▌                                                 | 471/1261 [01:42<03:00,  4.38it/s]"
     ]
    },
    {
     "name": "stdout",
     "output_type": "stream",
     "text": [
      "fit coeffs too far off [%] [-0.8408204   0.27470599 -0.02175712]\n"
     ]
    },
    {
     "name": "stderr",
     "output_type": "stream",
     "text": [
      "\r",
      " 37%|█████████████████████████████▌                                                 | 472/1261 [01:42<03:01,  4.34it/s]"
     ]
    },
    {
     "name": "stdout",
     "output_type": "stream",
     "text": [
      "fit coeffs too far off [%] [-0.83606947  0.1638312  -0.0242667 ]\n"
     ]
    },
    {
     "name": "stderr",
     "output_type": "stream",
     "text": [
      "\r",
      " 38%|█████████████████████████████▋                                                 | 473/1261 [01:42<03:01,  4.34it/s]"
     ]
    },
    {
     "name": "stdout",
     "output_type": "stream",
     "text": [
      "fit coeffs too far off [%] [-1.17604547  0.6038337  -0.01116982]\n",
      "fit coeffs too far off [%] [-1.3384039  -1.68461586  0.00281627]\n"
     ]
    },
    {
     "name": "stderr",
     "output_type": "stream",
     "text": [
      "\r",
      " 38%|█████████████████████████████▋                                                 | 474/1261 [01:43<03:04,  4.27it/s]"
     ]
    },
    {
     "name": "stdout",
     "output_type": "stream",
     "text": [
      "fit coeffs too far off [%] [-1.44215426  0.20242025 -0.03908926]\n",
      "fit coeffs too far off [%] [-0.91692489 -1.71823051  0.01477476]\n"
     ]
    },
    {
     "name": "stderr",
     "output_type": "stream",
     "text": [
      "\r",
      " 38%|█████████████████████████████▊                                                 | 475/1261 [01:43<03:05,  4.23it/s]"
     ]
    },
    {
     "name": "stdout",
     "output_type": "stream",
     "text": [
      "fit coeffs too far off [%] [-1.47105703  0.25767198 -0.03045307]\n"
     ]
    },
    {
     "name": "stderr",
     "output_type": "stream",
     "text": [
      " 38%|██████████████████████████████▏                                                | 481/1261 [01:44<02:45,  4.71it/s]"
     ]
    },
    {
     "name": "stdout",
     "output_type": "stream",
     "text": [
      "fit coeffs too far off [%] [-1.29192352 -0.2445456   0.01092141]\n"
     ]
    },
    {
     "name": "stderr",
     "output_type": "stream",
     "text": [
      "\r",
      " 38%|██████████████████████████████▏                                                | 482/1261 [01:44<02:45,  4.71it/s]"
     ]
    },
    {
     "name": "stdout",
     "output_type": "stream",
     "text": [
      "fit coeffs too far off [%] [-0.99712629 -0.12676082  0.0115925 ]\n"
     ]
    },
    {
     "name": "stderr",
     "output_type": "stream",
     "text": [
      "\r",
      " 38%|██████████████████████████████▎                                                | 483/1261 [01:45<02:49,  4.59it/s]"
     ]
    },
    {
     "name": "stdout",
     "output_type": "stream",
     "text": [
      "fit coeffs too far off [%] [-3.11539441 -1.14251138 -0.00618602]\n"
     ]
    },
    {
     "name": "stderr",
     "output_type": "stream",
     "text": [
      "\r",
      " 38%|██████████████████████████████▎                                                | 484/1261 [01:45<02:51,  4.54it/s]"
     ]
    },
    {
     "name": "stdout",
     "output_type": "stream",
     "text": [
      "fit coeffs too far off [%] [-1.64889379 -0.84934472 -0.00730083]\n",
      "fit coeffs too far off [%] [-4.21223819 -1.3989788  -0.00959918]\n"
     ]
    },
    {
     "name": "stderr",
     "output_type": "stream",
     "text": [
      "\r",
      " 38%|██████████████████████████████▍                                                | 485/1261 [01:45<02:54,  4.45it/s]"
     ]
    },
    {
     "name": "stdout",
     "output_type": "stream",
     "text": [
      "fit coeffs too far off [%] [-6.9689499  -2.13945177 -0.02858704]\n"
     ]
    },
    {
     "name": "stderr",
     "output_type": "stream",
     "text": [
      "\r",
      " 39%|██████████████████████████████▍                                                | 486/1261 [01:45<02:59,  4.31it/s]"
     ]
    },
    {
     "name": "stdout",
     "output_type": "stream",
     "text": [
      "fit coeffs too far off [%] [-0.85328035  0.16547542  0.03644072]\n",
      "fit coeffs too far off [%] [-6.59110945 -1.79859317 -0.0243705 ]\n"
     ]
    },
    {
     "name": "stderr",
     "output_type": "stream",
     "text": [
      "\r",
      " 39%|██████████████████████████████▌                                                | 487/1261 [01:45<02:58,  4.32it/s]"
     ]
    },
    {
     "name": "stdout",
     "output_type": "stream",
     "text": [
      "fit coeffs too far off [%] [-0.43095928  0.94048904  0.07458971]\n"
     ]
    },
    {
     "name": "stderr",
     "output_type": "stream",
     "text": [
      "\r",
      " 39%|██████████████████████████████▌                                                | 488/1261 [01:46<03:02,  4.23it/s]"
     ]
    },
    {
     "name": "stdout",
     "output_type": "stream",
     "text": [
      "fit coeffs too far off [%] [-1.43619087  0.41872964  0.07597415]\n",
      "fit coeffs too far off [%] [  4.26448809e+00   1.48948145e+01  -1.01770410e-02]\n"
     ]
    },
    {
     "name": "stderr",
     "output_type": "stream",
     "text": [
      "\r",
      " 39%|██████████████████████████████▋                                                | 489/1261 [01:46<02:59,  4.29it/s]"
     ]
    },
    {
     "name": "stdout",
     "output_type": "stream",
     "text": [
      "fit coeffs too far off [%] [-0.80677304  0.81825917  0.0805442 ]\n"
     ]
    },
    {
     "name": "stderr",
     "output_type": "stream",
     "text": [
      "\r",
      " 39%|██████████████████████████████▋                                                | 490/1261 [01:46<03:02,  4.22it/s]"
     ]
    },
    {
     "name": "stdout",
     "output_type": "stream",
     "text": [
      "fit coeffs too far off [%] [-0.68093203  0.92330792  0.08391528]\n",
      "fit coeffs too far off [%] [ 2.01494495  1.31701246 -0.00620431]\n"
     ]
    },
    {
     "name": "stderr",
     "output_type": "stream",
     "text": [
      "\r",
      " 39%|██████████████████████████████▊                                                | 491/1261 [01:46<03:00,  4.26it/s]"
     ]
    },
    {
     "name": "stdout",
     "output_type": "stream",
     "text": [
      "fit coeffs too far off [%] [-1.1449149   0.23864695  0.04590255]\n"
     ]
    },
    {
     "name": "stderr",
     "output_type": "stream",
     "text": [
      "\r",
      " 39%|██████████████████████████████▊                                                | 492/1261 [01:47<03:03,  4.20it/s]"
     ]
    },
    {
     "name": "stdout",
     "output_type": "stream",
     "text": [
      "fit coeffs too far off [%] [-0.74216006  0.10589968  0.03471967]\n",
      "fit coeffs too far off [%] [ 1.07761124  1.19319781 -0.00399266]\n"
     ]
    },
    {
     "name": "stderr",
     "output_type": "stream",
     "text": [
      " 39%|██████████████████████████████▉                                                | 494/1261 [01:47<03:02,  4.20it/s]"
     ]
    },
    {
     "name": "stdout",
     "output_type": "stream",
     "text": [
      "fit coeffs too far off [%] [ 9.46707905 -0.57724586 -0.01719812]\n",
      "fit coeffs too far off [%] [ 0.7209666   0.7038193   0.00164957]\n"
     ]
    },
    {
     "name": "stderr",
     "output_type": "stream",
     "text": [
      " 39%|███████████████████████████████▏                                               | 498/1261 [01:48<02:48,  4.53it/s]"
     ]
    },
    {
     "name": "stdout",
     "output_type": "stream",
     "text": [
      "fit coeffs too far off [%] [ 0.45862399 -1.18085091 -0.01456309]\n",
      "fit coeffs too far off [%] [-0.81424446 -0.7268912   0.00629198]\n"
     ]
    },
    {
     "name": "stderr",
     "output_type": "stream",
     "text": [
      "\r",
      " 40%|███████████████████████████████▎                                               | 499/1261 [01:48<02:48,  4.52it/s]"
     ]
    },
    {
     "name": "stdout",
     "output_type": "stream",
     "text": [
      "fit coeffs too far off [%] [ 0.11033649 -1.93317241 -0.04036087]\n",
      "fit coeffs too far off [%] [-0.5023082  -0.69072327  0.01655411]\n"
     ]
    },
    {
     "name": "stderr",
     "output_type": "stream",
     "text": [
      "\r",
      " 40%|███████████████████████████████▎                                               | 500/1261 [01:48<02:55,  4.33it/s]"
     ]
    },
    {
     "name": "stdout",
     "output_type": "stream",
     "text": [
      "fit coeffs too far off [%] [ 0.16986889 -2.88034036 -0.06685834]\n",
      "fit coeffs too far off [%] [-0.52968425 -1.01300245  0.02809225]\n"
     ]
    },
    {
     "name": "stderr",
     "output_type": "stream",
     "text": [
      " 40%|███████████████████████████████▍                                               | 502/1261 [01:49<02:59,  4.23it/s]"
     ]
    },
    {
     "name": "stdout",
     "output_type": "stream",
     "text": [
      "fit coeffs too far off [%] [ 0.73482352  0.10238464  0.02672413]\n",
      "fit coeffs too far off [%] [ -4.28395729e+00   3.25109082e+00  -2.08656760e-03]\n"
     ]
    },
    {
     "name": "stderr",
     "output_type": "stream",
     "text": [
      " 40%|███████████████████████████████▊                                               | 507/1261 [01:50<02:45,  4.55it/s]"
     ]
    },
    {
     "name": "stdout",
     "output_type": "stream",
     "text": [
      "fit coeffs too far off [%] [ 0.45125812  0.55750387 -0.01005528]\n",
      "fit coeffs too far off [%] [-2.94176175 -1.44920286 -0.01081459]\n"
     ]
    },
    {
     "name": "stderr",
     "output_type": "stream",
     "text": [
      "\r",
      " 40%|███████████████████████████████▊                                               | 508/1261 [01:50<02:47,  4.50it/s]"
     ]
    },
    {
     "name": "stdout",
     "output_type": "stream",
     "text": [
      "fit coeffs too far off [%] [-5.24949764 -1.85648528 -0.00858397]\n"
     ]
    },
    {
     "name": "stderr",
     "output_type": "stream",
     "text": [
      "\r",
      " 40%|███████████████████████████████▉                                               | 509/1261 [01:51<02:51,  4.38it/s]"
     ]
    },
    {
     "name": "stdout",
     "output_type": "stream",
     "text": [
      "fit coeffs too far off [%] [-9.61485372 -3.98263225 -0.02436678]\n"
     ]
    },
    {
     "name": "stderr",
     "output_type": "stream",
     "text": [
      "\r",
      " 40%|███████████████████████████████▉                                               | 510/1261 [01:51<02:52,  4.35it/s]"
     ]
    },
    {
     "name": "stdout",
     "output_type": "stream",
     "text": [
      "fit coeffs too far off [%] [ -1.04322031e+00  -7.81362824e-01  -2.17407096e-04]\n",
      "fit coeffs too far off [%] [-11.19575198  -4.16999979  -0.02956774]\n"
     ]
    },
    {
     "name": "stderr",
     "output_type": "stream",
     "text": [
      "\r",
      " 41%|████████████████████████████████                                               | 511/1261 [01:51<02:54,  4.29it/s]"
     ]
    },
    {
     "name": "stdout",
     "output_type": "stream",
     "text": [
      "fit coeffs too far off [%] [-1.16364233 -0.96238743  0.00859081]\n"
     ]
    },
    {
     "name": "stderr",
     "output_type": "stream",
     "text": [
      "\r",
      " 41%|████████████████████████████████                                               | 512/1261 [01:51<02:57,  4.21it/s]"
     ]
    },
    {
     "name": "stdout",
     "output_type": "stream",
     "text": [
      "fit coeffs too far off [%] [-0.89598577 -1.28959413  0.0393471 ]\n"
     ]
    },
    {
     "name": "stderr",
     "output_type": "stream",
     "text": [
      "\r",
      " 41%|████████████████████████████████▏                                              | 513/1261 [01:51<02:57,  4.22it/s]"
     ]
    },
    {
     "name": "stdout",
     "output_type": "stream",
     "text": [
      "fit coeffs too far off [%] [-1.33245532 -1.33961339  0.0305722 ]\n",
      "fit coeffs too far off [%] [-1.07102281 -0.80608744  0.00512493]\n"
     ]
    },
    {
     "name": "stderr",
     "output_type": "stream",
     "text": [
      "\r",
      " 41%|████████████████████████████████▏                                              | 514/1261 [01:52<02:57,  4.20it/s]"
     ]
    },
    {
     "name": "stdout",
     "output_type": "stream",
     "text": [
      "fit coeffs too far off [%] [-1.17385139 -1.32577741  0.03115482]\n"
     ]
    },
    {
     "name": "stderr",
     "output_type": "stream",
     "text": [
      "\r",
      " 41%|████████████████████████████████▎                                              | 515/1261 [01:52<02:59,  4.16it/s]"
     ]
    },
    {
     "name": "stdout",
     "output_type": "stream",
     "text": [
      "fit coeffs too far off [%] [-1.69242278 -1.04179279  0.01335911]\n"
     ]
    },
    {
     "name": "stderr",
     "output_type": "stream",
     "text": [
      "\r",
      " 41%|████████████████████████████████▎                                              | 516/1261 [01:52<02:56,  4.21it/s]"
     ]
    },
    {
     "name": "stdout",
     "output_type": "stream",
     "text": [
      "fit coeffs too far off [%] [-0.65323156 -0.72182883  0.01643285]\n"
     ]
    },
    {
     "name": "stderr",
     "output_type": "stream",
     "text": [
      " 41%|████████████████████████████████▍                                              | 518/1261 [01:53<02:51,  4.34it/s]"
     ]
    },
    {
     "name": "stdout",
     "output_type": "stream",
     "text": [
      "fit coeffs too far off [%] [-0.53166388 -1.28885253 -0.01431178]\n"
     ]
    },
    {
     "name": "stderr",
     "output_type": "stream",
     "text": [
      "\r",
      " 41%|████████████████████████████████▌                                              | 519/1261 [01:53<02:48,  4.41it/s]"
     ]
    },
    {
     "name": "stdout",
     "output_type": "stream",
     "text": [
      "fit coeffs too far off [%] [-0.56887211  0.5574509   0.02546117]\n"
     ]
    },
    {
     "name": "stderr",
     "output_type": "stream",
     "text": [
      "\r",
      " 41%|████████████████████████████████▌                                              | 520/1261 [01:53<02:49,  4.36it/s]"
     ]
    },
    {
     "name": "stdout",
     "output_type": "stream",
     "text": [
      "fit coeffs too far off [%] [-1.2942292  -1.18362116  0.01741482]\n",
      "fit coeffs too far off [%] [-1.20855335 -1.04573135  0.00849321]\n"
     ]
    },
    {
     "name": "stderr",
     "output_type": "stream",
     "text": [
      " 41%|████████████████████████████████▋                                              | 522/1261 [01:54<02:51,  4.31it/s]"
     ]
    },
    {
     "name": "stdout",
     "output_type": "stream",
     "text": [
      "fit coeffs too far off [%] [ 0.59915973  0.89790701  0.00391305]\n"
     ]
    },
    {
     "name": "stderr",
     "output_type": "stream",
     "text": [
      "\r",
      " 41%|████████████████████████████████▊                                              | 523/1261 [01:54<02:49,  4.36it/s]"
     ]
    },
    {
     "name": "stdout",
     "output_type": "stream",
     "text": [
      "fit coeffs too far off [%] [ 2.79110469  2.77627797 -0.02418412]\n"
     ]
    },
    {
     "name": "stderr",
     "output_type": "stream",
     "text": [
      "\r",
      " 42%|████████████████████████████████▊                                              | 524/1261 [01:54<02:50,  4.32it/s]"
     ]
    },
    {
     "name": "stdout",
     "output_type": "stream",
     "text": [
      "fit coeffs too far off [%] [ 1.04285782  0.82168564  0.04134472]\n",
      "fit coeffs too far off [%] [ 3.83169955  4.18247061 -0.04579778]\n"
     ]
    },
    {
     "name": "stderr",
     "output_type": "stream",
     "text": [
      "\r",
      " 42%|████████████████████████████████▉                                              | 525/1261 [01:54<02:51,  4.28it/s]"
     ]
    },
    {
     "name": "stdout",
     "output_type": "stream",
     "text": [
      "fit coeffs too far off [%] [ 3.1743863   3.25595383 -0.0279004 ]\n"
     ]
    },
    {
     "name": "stderr",
     "output_type": "stream",
     "text": [
      "\r",
      " 42%|████████████████████████████████▉                                              | 526/1261 [01:55<02:53,  4.25it/s]"
     ]
    },
    {
     "name": "stdout",
     "output_type": "stream",
     "text": [
      "fit coeffs too far off [%] [ 2.38232145  2.42615642 -0.01961683]\n"
     ]
    },
    {
     "name": "stderr",
     "output_type": "stream",
     "text": [
      " 42%|█████████████████████████████████▏                                             | 529/1261 [01:55<02:45,  4.42it/s]"
     ]
    },
    {
     "name": "stdout",
     "output_type": "stream",
     "text": [
      "fit coeffs too far off [%] [-0.63443873 -0.60872528 -0.00074359]\n"
     ]
    },
    {
     "name": "stderr",
     "output_type": "stream",
     "text": [
      "\r",
      " 42%|█████████████████████████████████▏                                             | 530/1261 [01:55<02:44,  4.45it/s]"
     ]
    },
    {
     "name": "stdout",
     "output_type": "stream",
     "text": [
      "fit coeffs too far off [%] [ -1.53610663e+00  -1.00072650e+00   1.30062097e-03]\n",
      "fit coeffs too far off [%] [-1.0438938  -0.96920055  0.00592124]\n"
     ]
    },
    {
     "name": "stderr",
     "output_type": "stream",
     "text": [
      "\r",
      " 42%|█████████████████████████████████▎                                             | 531/1261 [01:56<02:46,  4.39it/s]"
     ]
    },
    {
     "name": "stdout",
     "output_type": "stream",
     "text": [
      "fit coeffs too far off [%] [-2.10877104 -1.35514426  0.01371091]\n"
     ]
    },
    {
     "name": "stderr",
     "output_type": "stream",
     "text": [
      "\r",
      " 42%|█████████████████████████████████▎                                             | 532/1261 [01:56<02:51,  4.24it/s]"
     ]
    },
    {
     "name": "stdout",
     "output_type": "stream",
     "text": [
      "fit coeffs too far off [%] [-2.27005345 -1.49885962  0.00570086]\n",
      "fit coeffs too far off [%] [ 0.79957519  1.32074551  0.00669896]\n"
     ]
    },
    {
     "name": "stderr",
     "output_type": "stream",
     "text": [
      "\r",
      " 42%|█████████████████████████████████▍                                             | 533/1261 [01:56<02:54,  4.18it/s]"
     ]
    },
    {
     "name": "stdout",
     "output_type": "stream",
     "text": [
      "fit coeffs too far off [%] [-2.78407167 -1.76037058 -0.01479941]\n"
     ]
    },
    {
     "name": "stderr",
     "output_type": "stream",
     "text": [
      "\r",
      " 42%|█████████████████████████████████▍                                             | 534/1261 [01:56<02:56,  4.12it/s]"
     ]
    },
    {
     "name": "stdout",
     "output_type": "stream",
     "text": [
      "fit coeffs too far off [%] [-3.12724317 -1.8716293  -0.05127083]\n",
      "fit coeffs too far off [%] [ 1.01120919  1.31448187  0.02250119]\n"
     ]
    },
    {
     "name": "stderr",
     "output_type": "stream",
     "text": [
      " 43%|█████████████████████████████████▌                                             | 536/1261 [01:57<02:55,  4.13it/s]"
     ]
    },
    {
     "name": "stdout",
     "output_type": "stream",
     "text": [
      "fit coeffs too far off [%] [ 0.83730739  1.09358267  0.00716048]\n"
     ]
    },
    {
     "name": "stderr",
     "output_type": "stream",
     "text": [
      " 43%|█████████████████████████████████▊                                             | 539/1261 [01:58<02:44,  4.38it/s]"
     ]
    },
    {
     "name": "stdout",
     "output_type": "stream",
     "text": [
      "fit coeffs too far off [%] [-0.8789417  -1.03031166  0.04634386]\n",
      "fit coeffs too far off [%] [-0.60784717 -0.5243444  -0.00943273]\n"
     ]
    },
    {
     "name": "stderr",
     "output_type": "stream",
     "text": [
      " 43%|██████████████████████████████████                                             | 543/1261 [01:58<02:40,  4.46it/s]"
     ]
    },
    {
     "name": "stdout",
     "output_type": "stream",
     "text": [
      "fit coeffs too far off [%] [ 0.51906919  0.54077574  0.00559147]\n"
     ]
    },
    {
     "name": "stderr",
     "output_type": "stream",
     "text": [
      "\r",
      " 43%|██████████████████████████████████                                             | 544/1261 [01:59<02:39,  4.49it/s]"
     ]
    },
    {
     "name": "stdout",
     "output_type": "stream",
     "text": [
      "fit coeffs too far off [%] [ 0.87664588  0.88596892  0.01916971]\n"
     ]
    },
    {
     "name": "stderr",
     "output_type": "stream",
     "text": [
      "\r",
      " 43%|██████████████████████████████████▏                                            | 545/1261 [01:59<02:40,  4.47it/s]"
     ]
    },
    {
     "name": "stdout",
     "output_type": "stream",
     "text": [
      "fit coeffs too far off [%] [-0.61216668 -0.55485883  0.01962138]\n",
      "fit coeffs too far off [%] [ 0.92136362  0.81513965  0.01959038]\n"
     ]
    },
    {
     "name": "stderr",
     "output_type": "stream",
     "text": [
      "\r",
      " 43%|██████████████████████████████████▏                                            | 546/1261 [01:59<02:44,  4.36it/s]"
     ]
    },
    {
     "name": "stdout",
     "output_type": "stream",
     "text": [
      "fit coeffs too far off [%] [ 0.63340554  0.63387485  0.02407058]\n"
     ]
    },
    {
     "name": "stderr",
     "output_type": "stream",
     "text": [
      "\r",
      " 43%|██████████████████████████████████▎                                            | 547/1261 [01:59<02:47,  4.25it/s]"
     ]
    },
    {
     "name": "stdout",
     "output_type": "stream",
     "text": [
      "fit coeffs too far off [%] [ -8.40866740e-01  -6.88462699e-01   2.93180715e-04]\n"
     ]
    },
    {
     "name": "stderr",
     "output_type": "stream",
     "text": [
      " 44%|██████████████████████████████████▋                                            | 553/1261 [02:01<02:34,  4.58it/s]"
     ]
    },
    {
     "name": "stdout",
     "output_type": "stream",
     "text": [
      "fit coeffs too far off [%] [-0.83015383 -0.40040392  0.00591492]\n"
     ]
    },
    {
     "name": "stderr",
     "output_type": "stream",
     "text": [
      "\r",
      " 44%|██████████████████████████████████▋                                            | 554/1261 [02:01<02:34,  4.57it/s]"
     ]
    },
    {
     "name": "stdout",
     "output_type": "stream",
     "text": [
      "fit coeffs too far off [%] [-0.88962147 -0.51995929 -0.00749611]\n"
     ]
    },
    {
     "name": "stderr",
     "output_type": "stream",
     "text": [
      "\r",
      " 44%|██████████████████████████████████▊                                            | 555/1261 [02:01<02:36,  4.51it/s]"
     ]
    },
    {
     "name": "stdout",
     "output_type": "stream",
     "text": [
      "fit coeffs too far off [%] [-1.25525051 -0.83944432 -0.0359936 ]\n"
     ]
    },
    {
     "name": "stderr",
     "output_type": "stream",
     "text": [
      "\r",
      " 44%|██████████████████████████████████▊                                            | 556/1261 [02:01<02:39,  4.43it/s]"
     ]
    },
    {
     "name": "stdout",
     "output_type": "stream",
     "text": [
      "fit coeffs too far off [%] [-0.64796379 -0.50426269  0.04607576]\n",
      "fit coeffs too far off [%] [-1.5373924  -0.98694692 -0.0485943 ]\n"
     ]
    },
    {
     "name": "stderr",
     "output_type": "stream",
     "text": [
      "\r",
      " 44%|██████████████████████████████████▉                                            | 557/1261 [02:02<02:43,  4.31it/s]"
     ]
    },
    {
     "name": "stdout",
     "output_type": "stream",
     "text": [
      "fit coeffs too far off [%] [-1.07164005 -0.59505289  0.02563628]\n",
      "fit coeffs too far off [%] [-1.57389603 -0.93488457 -0.04115786]\n"
     ]
    },
    {
     "name": "stderr",
     "output_type": "stream",
     "text": [
      "\r",
      " 44%|██████████████████████████████████▉                                            | 558/1261 [02:02<02:48,  4.17it/s]"
     ]
    },
    {
     "name": "stdout",
     "output_type": "stream",
     "text": [
      "fit coeffs too far off [%] [-1.54400287 -0.78322986 -0.00668219]\n"
     ]
    },
    {
     "name": "stderr",
     "output_type": "stream",
     "text": [
      "\r",
      " 44%|███████████████████████████████████                                            | 559/1261 [02:02<02:49,  4.14it/s]"
     ]
    },
    {
     "name": "stdout",
     "output_type": "stream",
     "text": [
      "fit coeffs too far off [%] [-0.18084607  0.90110107 -0.20686252]\n",
      "Failed right line detection!\n"
     ]
    },
    {
     "name": "stderr",
     "output_type": "stream",
     "text": [
      "\r",
      " 44%|███████████████████████████████████                                            | 560/1261 [02:03<03:40,  3.18it/s]"
     ]
    },
    {
     "name": "stdout",
     "output_type": "stream",
     "text": [
      "fit coeffs too far off [%] [-0.31849797  0.93041282 -0.23306281]\n"
     ]
    },
    {
     "name": "stderr",
     "output_type": "stream",
     "text": [
      "\r",
      " 44%|███████████████████████████████████▏                                           | 561/1261 [02:03<03:23,  3.45it/s]"
     ]
    },
    {
     "name": "stdout",
     "output_type": "stream",
     "text": [
      "fit coeffs too far off [%] [ 0.21113907  1.45970786 -0.27974022]\n"
     ]
    },
    {
     "name": "stderr",
     "output_type": "stream",
     "text": [
      "\r",
      " 45%|███████████████████████████████████▏                                           | 562/1261 [02:03<03:11,  3.65it/s]"
     ]
    },
    {
     "name": "stdout",
     "output_type": "stream",
     "text": [
      "fit coeffs too far off [%] [ 0.77772138  0.81579721 -0.15075869]\n"
     ]
    },
    {
     "name": "stderr",
     "output_type": "stream",
     "text": [
      "\r",
      " 45%|███████████████████████████████████▎                                           | 563/1261 [02:03<03:01,  3.85it/s]"
     ]
    },
    {
     "name": "stdout",
     "output_type": "stream",
     "text": [
      "fit coeffs too far off [%] [ 0.8903567   0.23915252 -0.03501878]\n",
      "fit coeffs too far off [%] [-1.07837352 -0.74729326 -0.09358175]\n"
     ]
    },
    {
     "name": "stderr",
     "output_type": "stream",
     "text": [
      "\r",
      " 45%|███████████████████████████████████▎                                           | 564/1261 [02:04<02:56,  3.95it/s]"
     ]
    },
    {
     "name": "stdout",
     "output_type": "stream",
     "text": [
      "fit coeffs too far off [%] [-3.35997543 -1.45883026 -0.14936278]\n"
     ]
    },
    {
     "name": "stderr",
     "output_type": "stream",
     "text": [
      "\r",
      " 45%|███████████████████████████████████▍                                           | 565/1261 [02:04<02:55,  3.98it/s]"
     ]
    },
    {
     "name": "stdout",
     "output_type": "stream",
     "text": [
      "fit coeffs too far off [%] [ 1.43981034  0.47761823  0.0501072 ]\n",
      "fit coeffs too far off [%] [-2.80790202 -1.42851162 -0.16685973]\n"
     ]
    },
    {
     "name": "stderr",
     "output_type": "stream",
     "text": [
      "\r",
      " 45%|███████████████████████████████████▍                                           | 566/1261 [02:04<02:50,  4.07it/s]"
     ]
    },
    {
     "name": "stdout",
     "output_type": "stream",
     "text": [
      "fit coeffs too far off [%] [-5.25813408 -1.76119319 -0.15862047]\n"
     ]
    },
    {
     "name": "stderr",
     "output_type": "stream",
     "text": [
      "\r",
      " 45%|███████████████████████████████████▌                                           | 567/1261 [02:04<02:50,  4.08it/s]"
     ]
    },
    {
     "name": "stdout",
     "output_type": "stream",
     "text": [
      "fit coeffs too far off [%] [-0.93845347 -1.47948518  0.10774596]\n"
     ]
    },
    {
     "name": "stderr",
     "output_type": "stream",
     "text": [
      "\r",
      " 45%|███████████████████████████████████▌                                           | 568/1261 [02:05<02:46,  4.15it/s]"
     ]
    },
    {
     "name": "stdout",
     "output_type": "stream",
     "text": [
      "fit coeffs too far off [%] [ 0.41340015  1.20412387 -0.07657669]\n"
     ]
    },
    {
     "name": "stderr",
     "output_type": "stream",
     "text": [
      " 45%|███████████████████████████████████▋                                           | 570/1261 [02:05<02:40,  4.31it/s]"
     ]
    },
    {
     "name": "stdout",
     "output_type": "stream",
     "text": [
      "fit coeffs too far off [%] [-1.05994788 -0.94460164  0.01625721]\n",
      "fit coeffs too far off [%] [-0.3084999  -0.61813122  0.04392053]\n"
     ]
    },
    {
     "name": "stderr",
     "output_type": "stream",
     "text": [
      " 45%|███████████████████████████████████▉                                           | 573/1261 [02:06<02:33,  4.48it/s]"
     ]
    },
    {
     "name": "stdout",
     "output_type": "stream",
     "text": [
      "fit coeffs too far off [%] [-3.44666262 -3.56306    -0.11594748]\n"
     ]
    },
    {
     "name": "stderr",
     "output_type": "stream",
     "text": [
      "\r",
      " 46%|███████████████████████████████████▉                                           | 574/1261 [02:06<02:32,  4.52it/s]"
     ]
    },
    {
     "name": "stdout",
     "output_type": "stream",
     "text": [
      "fit coeffs too far off [%] [-0.85277346 -0.73851978  0.00258331]\n"
     ]
    },
    {
     "name": "stderr",
     "output_type": "stream",
     "text": [
      " 46%|████████████████████████████████████                                           | 576/1261 [02:06<02:32,  4.49it/s]"
     ]
    },
    {
     "name": "stdout",
     "output_type": "stream",
     "text": [
      "fit coeffs too far off [%] [ 0.4408161   0.54086941  0.03830385]\n",
      "fit coeffs too far off [%] [-1.02746407 -0.71780427 -0.00451924]\n"
     ]
    },
    {
     "name": "stderr",
     "output_type": "stream",
     "text": [
      "\r",
      " 46%|████████████████████████████████████▏                                          | 577/1261 [02:07<02:32,  4.50it/s]"
     ]
    },
    {
     "name": "stdout",
     "output_type": "stream",
     "text": [
      "fit coeffs too far off [%] [-1.74386635 -1.38970087 -0.00545058]\n"
     ]
    },
    {
     "name": "stderr",
     "output_type": "stream",
     "text": [
      "\r",
      " 46%|████████████████████████████████████▏                                          | 578/1261 [02:07<02:36,  4.36it/s]"
     ]
    },
    {
     "name": "stdout",
     "output_type": "stream",
     "text": [
      "fit coeffs too far off [%] [-0.41379108 -0.70868776  0.05462677]\n",
      "fit coeffs too far off [%] [-2.09144522 -1.80001687 -0.00651147]\n"
     ]
    },
    {
     "name": "stderr",
     "output_type": "stream",
     "text": [
      "\r",
      " 46%|████████████████████████████████████▎                                          | 579/1261 [02:07<02:38,  4.30it/s]"
     ]
    },
    {
     "name": "stdout",
     "output_type": "stream",
     "text": [
      "fit coeffs too far off [%] [ -2.09125792e+00  -1.86117823e+00  -7.65547388e-04]\n"
     ]
    },
    {
     "name": "stderr",
     "output_type": "stream",
     "text": [
      "\r",
      " 46%|████████████████████████████████████▎                                          | 580/1261 [02:07<02:39,  4.26it/s]"
     ]
    },
    {
     "name": "stdout",
     "output_type": "stream",
     "text": [
      "fit coeffs too far off [%] [  6.99339291 -30.92973047  -0.12771901]\n",
      "fit coeffs too far off [%] [ -1.88677379e+00  -1.54908641e+00   7.14383168e-04]\n"
     ]
    },
    {
     "name": "stderr",
     "output_type": "stream",
     "text": [
      "\r",
      " 46%|████████████████████████████████████▍                                          | 581/1261 [02:07<02:40,  4.24it/s]"
     ]
    },
    {
     "name": "stdout",
     "output_type": "stream",
     "text": [
      "fit coeffs too far off [%] [-1.94690349 -1.66948156  0.01326197]\n"
     ]
    },
    {
     "name": "stderr",
     "output_type": "stream",
     "text": [
      "\r",
      " 46%|████████████████████████████████████▍                                          | 582/1261 [02:08<02:40,  4.22it/s]"
     ]
    },
    {
     "name": "stdout",
     "output_type": "stream",
     "text": [
      "fit coeffs too far off [%] [-2.41639896 -1.92906369  0.01300827]\n"
     ]
    },
    {
     "name": "stderr",
     "output_type": "stream",
     "text": [
      " 47%|████████████████████████████████████▊                                          | 587/1261 [02:09<02:28,  4.53it/s]"
     ]
    },
    {
     "name": "stdout",
     "output_type": "stream",
     "text": [
      "fit coeffs too far off [%] [-0.9386086  -0.84601082  0.14370017]\n"
     ]
    },
    {
     "name": "stderr",
     "output_type": "stream",
     "text": [
      "\r",
      " 47%|████████████████████████████████████▊                                          | 588/1261 [02:09<02:27,  4.56it/s]"
     ]
    },
    {
     "name": "stdout",
     "output_type": "stream",
     "text": [
      "fit coeffs too far off [%] [-0.96524203 -0.83889485  0.1374854 ]\n"
     ]
    },
    {
     "name": "stderr",
     "output_type": "stream",
     "text": [
      "\r",
      " 47%|████████████████████████████████████▉                                          | 589/1261 [02:09<02:30,  4.46it/s]"
     ]
    },
    {
     "name": "stdout",
     "output_type": "stream",
     "text": [
      "fit coeffs too far off [%] [-1.07646688 -0.96870069  0.16468968]\n"
     ]
    },
    {
     "name": "stderr",
     "output_type": "stream",
     "text": [
      "\r",
      " 47%|████████████████████████████████████▉                                          | 590/1261 [02:09<02:30,  4.45it/s]"
     ]
    },
    {
     "name": "stdout",
     "output_type": "stream",
     "text": [
      "fit coeffs too far off [%] [-1.47194104 -1.37480819  0.25291061]\n"
     ]
    },
    {
     "name": "stderr",
     "output_type": "stream",
     "text": [
      "\r",
      " 47%|█████████████████████████████████████                                          | 591/1261 [02:10<02:31,  4.42it/s]"
     ]
    },
    {
     "name": "stdout",
     "output_type": "stream",
     "text": [
      "fit coeffs too far off [%] [-1.49801056 -1.48283511  0.30162798]\n"
     ]
    },
    {
     "name": "stderr",
     "output_type": "stream",
     "text": [
      "\r",
      " 47%|█████████████████████████████████████                                          | 592/1261 [02:10<02:32,  4.39it/s]"
     ]
    },
    {
     "name": "stdout",
     "output_type": "stream",
     "text": [
      "fit coeffs too far off [%] [-1.44176755 -1.34667943  0.23139783]\n",
      "fit coeffs too far off [%] [-0.73622691 -0.22600712  0.01667236]\n"
     ]
    },
    {
     "name": "stderr",
     "output_type": "stream",
     "text": [
      "\r",
      " 47%|█████████████████████████████████████▏                                         | 593/1261 [02:10<02:33,  4.35it/s]"
     ]
    },
    {
     "name": "stdout",
     "output_type": "stream",
     "text": [
      "fit coeffs too far off [%] [-0.82509999 -0.2529983   0.01762311]\n"
     ]
    },
    {
     "name": "stderr",
     "output_type": "stream",
     "text": [
      "\r",
      " 47%|█████████████████████████████████████▏                                         | 594/1261 [02:10<02:35,  4.28it/s]"
     ]
    },
    {
     "name": "stdout",
     "output_type": "stream",
     "text": [
      "fit coeffs too far off [%] [-0.79987198 -0.36345708  0.00668924]\n"
     ]
    },
    {
     "name": "stderr",
     "output_type": "stream",
     "text": [
      "\r",
      " 47%|█████████████████████████████████████▎                                         | 595/1261 [02:11<02:34,  4.31it/s]"
     ]
    },
    {
     "name": "stdout",
     "output_type": "stream",
     "text": [
      "fit coeffs too far off [%] [-0.77962919 -0.88063499 -0.0321869 ]\n"
     ]
    },
    {
     "name": "stderr",
     "output_type": "stream",
     "text": [
      " 47%|█████████████████████████████████████▍                                         | 598/1261 [02:11<02:29,  4.43it/s]"
     ]
    },
    {
     "name": "stdout",
     "output_type": "stream",
     "text": [
      "fit coeffs too far off [%] [ 0.64477559  0.8148087  -0.00351396]\n"
     ]
    },
    {
     "name": "stderr",
     "output_type": "stream",
     "text": [
      "\r",
      " 48%|█████████████████████████████████████▌                                         | 599/1261 [02:12<02:27,  4.49it/s]"
     ]
    },
    {
     "name": "stdout",
     "output_type": "stream",
     "text": [
      "fit coeffs too far off [%] [ 2.24568914  3.65445267  0.05579662]\n",
      "fit coeffs too far off [%] [ 1.31046526  0.81934198  0.02848334]\n"
     ]
    },
    {
     "name": "stderr",
     "output_type": "stream",
     "text": [
      "\r",
      " 48%|█████████████████████████████████████▌                                         | 600/1261 [02:12<02:28,  4.44it/s]"
     ]
    },
    {
     "name": "stdout",
     "output_type": "stream",
     "text": [
      "fit coeffs too far off [%] [  1.59294512e+00   1.84195730e+00  -2.70221598e-04]\n",
      "fit coeffs too far off [%] [ 1.14561982  0.73888303  0.03665217]\n"
     ]
    },
    {
     "name": "stderr",
     "output_type": "stream",
     "text": [
      "\r",
      " 48%|█████████████████████████████████████▋                                         | 601/1261 [02:12<02:31,  4.36it/s]"
     ]
    },
    {
     "name": "stdout",
     "output_type": "stream",
     "text": [
      "Failed right line detection!\n",
      "fit coeffs too far off [%] [ 1.68589938  1.01564852  0.04757673]\n"
     ]
    },
    {
     "name": "stderr",
     "output_type": "stream",
     "text": [
      "\r",
      " 48%|█████████████████████████████████████▋                                         | 602/1261 [02:12<03:19,  3.30it/s]"
     ]
    },
    {
     "name": "stdout",
     "output_type": "stream",
     "text": [
      "Failed right line detection!\n",
      "fit coeffs too far off [%] [ 2.35985836  1.35006983  0.05513803]\n"
     ]
    },
    {
     "name": "stderr",
     "output_type": "stream",
     "text": [
      "\r",
      " 48%|█████████████████████████████████████▊                                         | 603/1261 [02:13<03:51,  2.85it/s]"
     ]
    },
    {
     "name": "stdout",
     "output_type": "stream",
     "text": [
      "Failed right line detection!\n",
      "fit coeffs too far off [%] [ 2.06057078  1.26848899  0.05318423]\n"
     ]
    },
    {
     "name": "stderr",
     "output_type": "stream",
     "text": [
      "\r",
      " 48%|█████████████████████████████████████▊                                         | 604/1261 [02:13<04:16,  2.56it/s]"
     ]
    },
    {
     "name": "stdout",
     "output_type": "stream",
     "text": [
      "fit coeffs too far off [%] [ 2.26870788  1.31276823  0.04560752]\n"
     ]
    },
    {
     "name": "stderr",
     "output_type": "stream",
     "text": [
      "\r",
      " 48%|█████████████████████████████████████▉                                         | 605/1261 [02:14<03:48,  2.88it/s]"
     ]
    },
    {
     "name": "stdout",
     "output_type": "stream",
     "text": [
      "fit coeffs too far off [%] [ 0.4345328   0.88922148  0.22403349]\n",
      "fit coeffs too far off [%] [ 2.10066255  1.13431935  0.02893745]\n"
     ]
    },
    {
     "name": "stderr",
     "output_type": "stream",
     "text": [
      "\r",
      " 48%|█████████████████████████████████████▉                                         | 606/1261 [02:14<03:24,  3.20it/s]"
     ]
    },
    {
     "name": "stdout",
     "output_type": "stream",
     "text": [
      "fit coeffs too far off [%] [ 0.48741475  0.99373519  0.27633145]\n"
     ]
    },
    {
     "name": "stderr",
     "output_type": "stream",
     "text": [
      "\r",
      " 48%|██████████████████████████████████████                                         | 607/1261 [02:14<03:09,  3.46it/s]"
     ]
    },
    {
     "name": "stdout",
     "output_type": "stream",
     "text": [
      "fit coeffs too far off [%] [ 0.52100045  0.90389609  0.22751037]\n"
     ]
    },
    {
     "name": "stderr",
     "output_type": "stream",
     "text": [
      "\r",
      " 48%|██████████████████████████████████████                                         | 608/1261 [02:14<02:56,  3.70it/s]"
     ]
    },
    {
     "name": "stdout",
     "output_type": "stream",
     "text": [
      "fit coeffs too far off [%] [ 0.43244619  0.64773645  0.15940947]\n"
     ]
    },
    {
     "name": "stderr",
     "output_type": "stream",
     "text": [
      " 49%|██████████████████████████████████████▋                                        | 618/1261 [02:17<02:20,  4.59it/s]"
     ]
    },
    {
     "name": "stdout",
     "output_type": "stream",
     "text": [
      "fit coeffs too far off [%] [ 0.04365083  0.21379167  0.15534808]\n"
     ]
    },
    {
     "name": "stderr",
     "output_type": "stream",
     "text": [
      " 50%|███████████████████████████████████████▌                                       | 631/1261 [02:19<02:10,  4.81it/s]"
     ]
    },
    {
     "name": "stdout",
     "output_type": "stream",
     "text": [
      "fit coeffs too far off [%] [-0.37152813 -0.32721909 -0.16156422]\n"
     ]
    },
    {
     "name": "stderr",
     "output_type": "stream",
     "text": [
      "\r",
      " 50%|███████████████████████████████████████▌                                       | 632/1261 [02:19<02:10,  4.81it/s]"
     ]
    },
    {
     "name": "stdout",
     "output_type": "stream",
     "text": [
      "fit coeffs too far off [%] [-0.39162445 -0.34096319 -0.16726819]\n"
     ]
    },
    {
     "name": "stderr",
     "output_type": "stream",
     "text": [
      " 76%|████████████████████████████████████████████████████████████▎                  | 962/1261 [03:28<01:02,  4.75it/s]"
     ]
    },
    {
     "name": "stdout",
     "output_type": "stream",
     "text": [
      "fit coeffs too far off [%] [-0.81902857 -0.28293126 -0.01211066]\n"
     ]
    },
    {
     "name": "stderr",
     "output_type": "stream",
     "text": [
      "\r",
      " 76%|████████████████████████████████████████████████████████████▎                  | 963/1261 [03:28<01:02,  4.75it/s]"
     ]
    },
    {
     "name": "stdout",
     "output_type": "stream",
     "text": [
      "fit coeffs too far off [%] [-0.7128803  -0.25980595 -0.01369913]\n"
     ]
    },
    {
     "name": "stderr",
     "output_type": "stream",
     "text": [
      " 77%|████████████████████████████████████████████████████████████▌                  | 967/1261 [03:29<01:02,  4.70it/s]"
     ]
    },
    {
     "name": "stdout",
     "output_type": "stream",
     "text": [
      "fit coeffs too far off [%] [-0.75489503 -0.33612176 -0.02693634]\n"
     ]
    },
    {
     "name": "stderr",
     "output_type": "stream",
     "text": [
      " 77%|████████████████████████████████████████████████████████████▊                  | 971/1261 [03:30<01:01,  4.73it/s]"
     ]
    },
    {
     "name": "stdout",
     "output_type": "stream",
     "text": [
      "fit coeffs too far off [%] [-1.09568905 -0.41565212 -0.02532526]\n"
     ]
    },
    {
     "name": "stderr",
     "output_type": "stream",
     "text": [
      "\r",
      " 77%|████████████████████████████████████████████████████████████▉                  | 972/1261 [03:30<01:01,  4.72it/s]"
     ]
    },
    {
     "name": "stdout",
     "output_type": "stream",
     "text": [
      "fit coeffs too far off [%] [-1.24867463 -0.50257778 -0.0356801 ]\n"
     ]
    },
    {
     "name": "stderr",
     "output_type": "stream",
     "text": [
      "\r",
      " 77%|████████████████████████████████████████████████████████████▉                  | 973/1261 [03:30<01:01,  4.65it/s]"
     ]
    },
    {
     "name": "stdout",
     "output_type": "stream",
     "text": [
      "fit coeffs too far off [%] [-0.91589212 -0.44191488 -0.07983478]\n",
      "fit coeffs too far off [%] [-1.35377087 -0.50266268 -0.03149412]\n"
     ]
    },
    {
     "name": "stderr",
     "output_type": "stream",
     "text": [
      "\r",
      " 77%|█████████████████████████████████████████████████████████████                  | 974/1261 [03:31<01:03,  4.52it/s]"
     ]
    },
    {
     "name": "stdout",
     "output_type": "stream",
     "text": [
      "fit coeffs too far off [%] [-0.7958129  -0.3968516  -0.07098643]\n",
      "fit coeffs too far off [%] [-4.2894884  -1.32614496 -0.07740355]\n"
     ]
    },
    {
     "name": "stderr",
     "output_type": "stream",
     "text": [
      "\r",
      " 77%|█████████████████████████████████████████████████████████████                  | 975/1261 [03:31<01:05,  4.38it/s]"
     ]
    },
    {
     "name": "stdout",
     "output_type": "stream",
     "text": [
      "fit coeffs too far off [%] [-1.27231976 -0.59138352 -0.09160946]\n",
      "fit coeffs too far off [%] [-6.00903509 -1.5305671  -0.08254033]\n"
     ]
    },
    {
     "name": "stderr",
     "output_type": "stream",
     "text": [
      "\r",
      " 77%|█████████████████████████████████████████████████████████████▏                 | 976/1261 [03:31<01:06,  4.28it/s]"
     ]
    },
    {
     "name": "stdout",
     "output_type": "stream",
     "text": [
      "fit coeffs too far off [%] [-1.25086253 -0.59899337 -0.09697442]\n",
      "fit coeffs too far off [%] [ 2.377329    0.32029691 -0.0088389 ]\n"
     ]
    },
    {
     "name": "stderr",
     "output_type": "stream",
     "text": [
      "\r",
      " 77%|█████████████████████████████████████████████████████████████▏                 | 977/1261 [03:31<01:08,  4.16it/s]"
     ]
    },
    {
     "name": "stdout",
     "output_type": "stream",
     "text": [
      "fit coeffs too far off [%] [-1.27802662 -0.5788821  -0.08634228]\n",
      "fit coeffs too far off [%] [  3.25586484e+00   4.89391110e-01  -1.39104960e-03]\n"
     ]
    },
    {
     "name": "stderr",
     "output_type": "stream",
     "text": [
      "\r",
      " 78%|█████████████████████████████████████████████████████████████▎                 | 978/1261 [03:32<01:08,  4.11it/s]"
     ]
    },
    {
     "name": "stdout",
     "output_type": "stream",
     "text": [
      "fit coeffs too far off [%] [-1.22167985 -0.57525955 -0.09235453]\n"
     ]
    },
    {
     "name": "stderr",
     "output_type": "stream",
     "text": [
      "\r",
      " 78%|█████████████████████████████████████████████████████████████▎                 | 979/1261 [03:32<01:09,  4.06it/s]"
     ]
    },
    {
     "name": "stdout",
     "output_type": "stream",
     "text": [
      "fit coeffs too far off [%] [-0.78184008 -0.4164518  -0.08109286]\n"
     ]
    },
    {
     "name": "stderr",
     "output_type": "stream",
     "text": [
      " 78%|█████████████████████████████████████████████████████████████▍                 | 981/1261 [03:32<01:06,  4.24it/s]"
     ]
    },
    {
     "name": "stdout",
     "output_type": "stream",
     "text": [
      "fit coeffs too far off [%] [ 0.86561608  0.11783908 -0.00130649]\n"
     ]
    },
    {
     "name": "stderr",
     "output_type": "stream",
     "text": [
      " 79%|██████████████████████████████████████████████████████████████▌                | 999/1261 [03:36<00:55,  4.70it/s]"
     ]
    },
    {
     "name": "stdout",
     "output_type": "stream",
     "text": [
      "fit coeffs too far off [%] [-0.76415107 -0.43013977 -0.07136357]\n"
     ]
    },
    {
     "name": "stderr",
     "output_type": "stream",
     "text": [
      "\r",
      " 79%|█████████████████████████████████████████████████████████████▊                | 1000/1261 [03:36<00:55,  4.69it/s]"
     ]
    },
    {
     "name": "stdout",
     "output_type": "stream",
     "text": [
      "fit coeffs too far off [%] [-1.4339378  -0.86211869 -0.12945668]\n"
     ]
    },
    {
     "name": "stderr",
     "output_type": "stream",
     "text": [
      "\r",
      " 79%|█████████████████████████████████████████████████████████████▉                | 1001/1261 [03:37<00:56,  4.59it/s]"
     ]
    },
    {
     "name": "stdout",
     "output_type": "stream",
     "text": [
      "fit coeffs too far off [%] [-1.32899354 -0.82757433 -0.15753494]\n"
     ]
    },
    {
     "name": "stderr",
     "output_type": "stream",
     "text": [
      "\r",
      " 79%|█████████████████████████████████████████████████████████████▉                | 1002/1261 [03:37<00:56,  4.55it/s]"
     ]
    },
    {
     "name": "stdout",
     "output_type": "stream",
     "text": [
      "fit coeffs too far off [%] [-0.54343901 -0.5492476  -0.17349008]\n"
     ]
    },
    {
     "name": "stderr",
     "output_type": "stream",
     "text": [
      "\r",
      " 80%|██████████████████████████████████████████████████████████████                | 1003/1261 [03:37<00:57,  4.49it/s]"
     ]
    },
    {
     "name": "stdout",
     "output_type": "stream",
     "text": [
      "fit coeffs too far off [%] [-0.52113441 -0.78517116 -0.2472596 ]\n"
     ]
    },
    {
     "name": "stderr",
     "output_type": "stream",
     "text": [
      "\r",
      " 80%|██████████████████████████████████████████████████████████████                | 1004/1261 [03:37<00:58,  4.40it/s]"
     ]
    },
    {
     "name": "stdout",
     "output_type": "stream",
     "text": [
      "fit coeffs too far off [%] [-0.11947857 -0.46974082 -0.19680324]\n"
     ]
    },
    {
     "name": "stderr",
     "output_type": "stream",
     "text": [
      " 80%|██████████████████████████████████████████████████████████████▏               | 1006/1261 [03:38<00:58,  4.37it/s]"
     ]
    },
    {
     "name": "stdout",
     "output_type": "stream",
     "text": [
      "fit coeffs too far off [%] [  1.26092108e+00   4.06724283e-01  -1.24593923e-03]\n"
     ]
    },
    {
     "name": "stderr",
     "output_type": "stream",
     "text": [
      "\r",
      " 80%|██████████████████████████████████████████████████████████████▎               | 1007/1261 [03:38<00:57,  4.43it/s]"
     ]
    },
    {
     "name": "stdout",
     "output_type": "stream",
     "text": [
      "fit coeffs too far off [%] [ 4.61171316  1.31224143  0.1350168 ]\n"
     ]
    },
    {
     "name": "stderr",
     "output_type": "stream",
     "text": [
      " 81%|███████████████████████████████████████████████████████████████▌              | 1027/1261 [03:42<00:48,  4.82it/s]"
     ]
    },
    {
     "name": "stdout",
     "output_type": "stream",
     "text": [
      "fit coeffs too far off [%] [ 0.70815938  0.19080915 -0.01255906]\n"
     ]
    },
    {
     "name": "stderr",
     "output_type": "stream",
     "text": [
      "\r",
      " 82%|███████████████████████████████████████████████████████████████▌              | 1028/1261 [03:42<00:48,  4.78it/s]"
     ]
    },
    {
     "name": "stdout",
     "output_type": "stream",
     "text": [
      "fit coeffs too far off [%] [ 0.95486332  0.30310701 -0.01000916]\n"
     ]
    },
    {
     "name": "stderr",
     "output_type": "stream",
     "text": [
      "\r",
      " 82%|███████████████████████████████████████████████████████████████▋              | 1029/1261 [03:43<00:49,  4.70it/s]"
     ]
    },
    {
     "name": "stdout",
     "output_type": "stream",
     "text": [
      "fit coeffs too far off [%] [ 0.95509158  0.316514   -0.00537085]\n"
     ]
    },
    {
     "name": "stderr",
     "output_type": "stream",
     "text": [
      "\r",
      " 82%|███████████████████████████████████████████████████████████████▋              | 1030/1261 [03:43<00:50,  4.59it/s]"
     ]
    },
    {
     "name": "stdout",
     "output_type": "stream",
     "text": [
      "fit coeffs too far off [%] [ 1.06353751  0.40193662 -0.00132279]\n"
     ]
    },
    {
     "name": "stderr",
     "output_type": "stream",
     "text": [
      "\r",
      " 82%|███████████████████████████████████████████████████████████████▊              | 1031/1261 [03:43<00:49,  4.61it/s]"
     ]
    },
    {
     "name": "stdout",
     "output_type": "stream",
     "text": [
      "fit coeffs too far off [%] [ 1.03060777  0.43614379  0.00414782]\n"
     ]
    },
    {
     "name": "stderr",
     "output_type": "stream",
     "text": [
      "\r",
      " 82%|███████████████████████████████████████████████████████████████▊              | 1032/1261 [03:43<00:50,  4.53it/s]"
     ]
    },
    {
     "name": "stdout",
     "output_type": "stream",
     "text": [
      "fit coeffs too far off [%] [ 0.76475745  0.41933922  0.02100283]\n"
     ]
    },
    {
     "name": "stderr",
     "output_type": "stream",
     "text": [
      " 82%|████████████████████████████████████████████████████████████████              | 1035/1261 [03:44<00:49,  4.56it/s]"
     ]
    },
    {
     "name": "stdout",
     "output_type": "stream",
     "text": [
      "fit coeffs too far off [%] [ 0.55026277  0.44974328  0.1540141 ]\n"
     ]
    },
    {
     "name": "stderr",
     "output_type": "stream",
     "text": [
      " 84%|█████████████████████████████████████████████████████████████████▏            | 1054/1261 [03:48<00:43,  4.73it/s]"
     ]
    },
    {
     "name": "stdout",
     "output_type": "stream",
     "text": [
      "fit coeffs too far off [%] [ 0.83613704  0.13671005 -0.01145106]\n"
     ]
    },
    {
     "name": "stderr",
     "output_type": "stream",
     "text": [
      "\r",
      " 84%|█████████████████████████████████████████████████████████████████▎            | 1055/1261 [03:48<00:43,  4.75it/s]"
     ]
    },
    {
     "name": "stdout",
     "output_type": "stream",
     "text": [
      "fit coeffs too far off [%] [ 0.08406188  0.23354184  0.15634876]\n",
      "fit coeffs too far off [%] [ 0.88115122  0.15032772 -0.0130968 ]\n"
     ]
    },
    {
     "name": "stderr",
     "output_type": "stream",
     "text": [
      "\r",
      " 84%|█████████████████████████████████████████████████████████████████▎            | 1056/1261 [03:48<00:45,  4.55it/s]"
     ]
    },
    {
     "name": "stdout",
     "output_type": "stream",
     "text": [
      "fit coeffs too far off [%] [ 0.02761326  0.23095567  0.1734512 ]\n",
      "fit coeffs too far off [%] [ 1.04199581  0.18452831 -0.01589112]\n"
     ]
    },
    {
     "name": "stderr",
     "output_type": "stream",
     "text": [
      "\r",
      " 84%|█████████████████████████████████████████████████████████████████▍            | 1057/1261 [03:49<00:46,  4.41it/s]"
     ]
    },
    {
     "name": "stdout",
     "output_type": "stream",
     "text": [
      "fit coeffs too far off [%] [ 0.17051295  0.24224954  0.16444808]\n",
      "fit coeffs too far off [%] [ 1.19467772  0.22456915 -0.0132467 ]\n"
     ]
    },
    {
     "name": "stderr",
     "output_type": "stream",
     "text": [
      "\r",
      " 84%|█████████████████████████████████████████████████████████████████▍            | 1058/1261 [03:49<00:47,  4.26it/s]"
     ]
    },
    {
     "name": "stdout",
     "output_type": "stream",
     "text": [
      "fit coeffs too far off [%] [ 0.37683657  0.31875656  0.19152965]\n",
      "fit coeffs too far off [%] [ 1.3441485   0.27638424 -0.01650362]\n"
     ]
    },
    {
     "name": "stderr",
     "output_type": "stream",
     "text": [
      "\r",
      " 84%|█████████████████████████████████████████████████████████████████▌            | 1059/1261 [03:49<00:47,  4.24it/s]"
     ]
    },
    {
     "name": "stdout",
     "output_type": "stream",
     "text": [
      "fit coeffs too far off [%] [ 0.41960873  0.3209914   0.19711919]\n",
      "fit coeffs too far off [%] [ 1.28712326  0.27803897 -0.02077699]\n"
     ]
    },
    {
     "name": "stderr",
     "output_type": "stream",
     "text": [
      "\r",
      " 84%|█████████████████████████████████████████████████████████████████▌            | 1060/1261 [03:49<00:47,  4.19it/s]"
     ]
    },
    {
     "name": "stdout",
     "output_type": "stream",
     "text": [
      "fit coeffs too far off [%] [ 0.45643255  0.30460434  0.18771775]\n",
      "fit coeffs too far off [%] [ 0.83103451  0.24044097 -0.01981075]\n"
     ]
    },
    {
     "name": "stderr",
     "output_type": "stream",
     "text": [
      " 98%|████████████████████████████████████████████████████████████████████████████▏ | 1232/1261 [04:25<00:06,  4.68it/s]"
     ]
    },
    {
     "name": "stdout",
     "output_type": "stream",
     "text": [
      "fit coeffs too far off [%] [-0.73269506 -0.31346504 -0.03383496]\n"
     ]
    },
    {
     "name": "stderr",
     "output_type": "stream",
     "text": [
      " 98%|████████████████████████████████████████████████████████████████████████████▊ | 1241/1261 [04:27<00:04,  4.79it/s]"
     ]
    },
    {
     "name": "stdout",
     "output_type": "stream",
     "text": [
      "fit coeffs too far off [%] [-0.84333937 -0.34781253 -0.03154949]\n"
     ]
    },
    {
     "name": "stderr",
     "output_type": "stream",
     "text": [
      "\r",
      " 98%|████████████████████████████████████████████████████████████████████████████▊ | 1242/1261 [04:27<00:04,  4.70it/s]"
     ]
    },
    {
     "name": "stdout",
     "output_type": "stream",
     "text": [
      "fit coeffs too far off [%] [-0.96566558 -0.36720361 -0.02691121]\n"
     ]
    },
    {
     "name": "stderr",
     "output_type": "stream",
     "text": [
      "\r",
      " 99%|████████████████████████████████████████████████████████████████████████████▉ | 1243/1261 [04:28<00:03,  4.58it/s]"
     ]
    },
    {
     "name": "stdout",
     "output_type": "stream",
     "text": [
      "fit coeffs too far off [%] [-1.35103669 -0.5701527  -0.04699611]\n"
     ]
    },
    {
     "name": "stderr",
     "output_type": "stream",
     "text": [
      "\r",
      " 99%|████████████████████████████████████████████████████████████████████████████▉ | 1244/1261 [04:28<00:03,  4.51it/s]"
     ]
    },
    {
     "name": "stdout",
     "output_type": "stream",
     "text": [
      "fit coeffs too far off [%] [-1.34083915 -0.55186971 -0.04175314]\n"
     ]
    },
    {
     "name": "stderr",
     "output_type": "stream",
     "text": [
      "\r",
      " 99%|█████████████████████████████████████████████████████████████████████████████ | 1245/1261 [04:28<00:03,  4.49it/s]"
     ]
    },
    {
     "name": "stdout",
     "output_type": "stream",
     "text": [
      "fit coeffs too far off [%] [ 0.80282015 -0.09848111 -0.03933605]\n",
      "fit coeffs too far off [%] [-0.75528923 -0.43578595 -0.03862538]\n"
     ]
    },
    {
     "name": "stderr",
     "output_type": "stream",
     "text": [
      "\r",
      " 99%|█████████████████████████████████████████████████████████████████████████████ | 1246/1261 [04:28<00:03,  4.39it/s]"
     ]
    },
    {
     "name": "stdout",
     "output_type": "stream",
     "text": [
      "fit coeffs too far off [%] [ 0.84265595  0.03164544 -0.00726603]\n"
     ]
    },
    {
     "name": "stderr",
     "output_type": "stream",
     "text": [
      "\r",
      " 99%|█████████████████████████████████████████████████████████████████████████████▏| 1247/1261 [04:29<00:03,  4.33it/s]"
     ]
    },
    {
     "name": "stdout",
     "output_type": "stream",
     "text": [
      "fit coeffs too far off [%] [ 1.19891015  0.01562458 -0.02016798]\n"
     ]
    },
    {
     "name": "stderr",
     "output_type": "stream",
     "text": [
      " 99%|█████████████████████████████████████████████████████████████████████████████▍| 1252/1261 [04:30<00:01,  4.60it/s]"
     ]
    },
    {
     "name": "stdout",
     "output_type": "stream",
     "text": [
      "fit coeffs too far off [%] [-1.17390257 -0.46470708 -0.05399753]\n",
      "fit coeffs too far off [%] [-1.70169348 -0.78718213 -0.03242189]\n"
     ]
    },
    {
     "name": "stderr",
     "output_type": "stream",
     "text": [
      "\r",
      " 99%|█████████████████████████████████████████████████████████████████████████████▌| 1253/1261 [04:30<00:01,  4.58it/s]"
     ]
    },
    {
     "name": "stdout",
     "output_type": "stream",
     "text": [
      "fit coeffs too far off [%] [-1.72434752 -0.74909308 -0.02161003]\n"
     ]
    },
    {
     "name": "stderr",
     "output_type": "stream",
     "text": [
      "\r",
      " 99%|█████████████████████████████████████████████████████████████████████████████▌| 1254/1261 [04:30<00:01,  4.44it/s]"
     ]
    },
    {
     "name": "stdout",
     "output_type": "stream",
     "text": [
      "fit coeffs too far off [%] [-1.62777546 -0.88789009 -0.03725515]\n"
     ]
    },
    {
     "name": "stderr",
     "output_type": "stream",
     "text": [
      "\r",
      "100%|█████████████████████████████████████████████████████████████████████████████▋| 1255/1261 [04:30<00:01,  4.50it/s]"
     ]
    },
    {
     "name": "stdout",
     "output_type": "stream",
     "text": [
      "fit coeffs too far off [%] [-0.76635735 -0.4888048  -0.06533003]\n",
      "fit coeffs too far off [%] [-0.85486552 -0.63714234 -0.03377369]\n"
     ]
    },
    {
     "name": "stderr",
     "output_type": "stream",
     "text": [
      "\r",
      "100%|█████████████████████████████████████████████████████████████████████████████▋| 1256/1261 [04:31<00:01,  4.44it/s]"
     ]
    },
    {
     "name": "stdout",
     "output_type": "stream",
     "text": [
      "fit coeffs too far off [%] [-1.4028146  -0.72756476 -0.08270492]\n",
      "fit coeffs too far off [%] [-0.3932397  -0.56571649 -0.03957076]\n"
     ]
    },
    {
     "name": "stderr",
     "output_type": "stream",
     "text": [
      "\r",
      "100%|█████████████████████████████████████████████████████████████████████████████▊| 1257/1261 [04:31<00:00,  4.29it/s]"
     ]
    },
    {
     "name": "stdout",
     "output_type": "stream",
     "text": [
      "fit coeffs too far off [%] [-1.22599094 -0.67794747 -0.07583713]\n"
     ]
    },
    {
     "name": "stderr",
     "output_type": "stream",
     "text": [
      "\r",
      "100%|█████████████████████████████████████████████████████████████████████████████▊| 1258/1261 [04:31<00:00,  4.24it/s]"
     ]
    },
    {
     "name": "stdout",
     "output_type": "stream",
     "text": [
      "fit coeffs too far off [%] [-1.1185088  -0.79835057 -0.09305615]\n"
     ]
    },
    {
     "name": "stderr",
     "output_type": "stream",
     "text": [
      "\r",
      "100%|█████████████████████████████████████████████████████████████████████████████▉| 1259/1261 [04:31<00:00,  4.26it/s]"
     ]
    },
    {
     "name": "stdout",
     "output_type": "stream",
     "text": [
      "fit coeffs too far off [%] [-2.24481177 -1.13045068 -0.10592169]\n",
      "fit coeffs too far off [%] [ 0.71459576  0.09330274 -0.02228518]\n"
     ]
    },
    {
     "name": "stderr",
     "output_type": "stream",
     "text": [
      "100%|█████████████████████████████████████████████████████████████████████████████▉| 1260/1261 [04:32<00:00,  4.26it/s]\n"
     ]
    },
    {
     "name": "stdout",
     "output_type": "stream",
     "text": [
      "[MoviePy] Done.\n",
      "[MoviePy] >>>> Video ready: ./processed_project_video.mp4 \n",
      "\n",
      "Wall time: 4min 32s\n"
     ]
    }
   ],
   "source": [
    "out_dir='./'\n",
    "output = out_dir + 'processed_project_video.mp4'\n",
    "clip = VideoFileClip(\"project_video.mp4\")\n",
    "out_clip = clip.fl_image(process_image) \n",
    "%time out_clip.write_videofile(output, audio=False)"
   ]
  },
  {
   "cell_type": "code",
   "execution_count": null,
   "metadata": {
    "collapsed": true
   },
   "outputs": [],
   "source": []
  }
 ],
 "metadata": {
  "anaconda-cloud": {},
  "kernelspec": {
   "display_name": "Python 3",
   "language": "python",
   "name": "python3"
  },
  "language_info": {
   "codemirror_mode": {
    "name": "ipython",
    "version": 3
   },
   "file_extension": ".py",
   "mimetype": "text/x-python",
   "name": "python",
   "nbconvert_exporter": "python",
   "pygments_lexer": "ipython3",
   "version": "3.5.2"
  },
  "widgets": {
   "state": {},
   "version": "1.1.2"
  }
 },
 "nbformat": 4,
 "nbformat_minor": 1
}
